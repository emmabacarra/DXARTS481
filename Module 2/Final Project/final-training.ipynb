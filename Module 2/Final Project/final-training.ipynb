{
 "cells": [
  {
   "cell_type": "markdown",
   "metadata": {},
   "source": [
    "##### packages"
   ]
  },
  {
   "cell_type": "code",
   "execution_count": 47,
   "metadata": {},
   "outputs": [],
   "source": [
    "import csv\n",
    "import os\n",
    "import time\n",
    "\n",
    "import numpy as np\n",
    "import pandas as pd\n",
    "from sklearn.preprocessing import LabelEncoder\n",
    "from sklearn.model_selection import train_test_split\n",
    "from sklearn.decomposition import PCA, KernelPCA\n",
    "\n",
    "import torch\n",
    "import torch.utils.data as data\n",
    "import torch.nn as nn\n",
    "import torch.optim as optim\n",
    "\n",
    "import librosa\n",
    "\n",
    "import matplotlib.pyplot as plt\n",
    "from matplotlib.colors import hsv_to_rgb\n",
    "import matplotlib.colors as mcolors\n",
    "from scipy.interpolate import griddata\n",
    "import plotly.graph_objects as go\n",
    "import anywidget\n",
    "from scipy.ndimage import gaussian_filter\n",
    "from IPython.display import display\n",
    "\n",
    "device = torch.device(\"cuda\" if torch.cuda.is_available() else \"cpu\")"
   ]
  },
  {
   "cell_type": "markdown",
   "metadata": {},
   "source": [
    "##### loading data"
   ]
  },
  {
   "cell_type": "code",
   "execution_count": 3,
   "metadata": {},
   "outputs": [
    {
     "name": "stdout",
     "output_type": "stream",
     "text": [
      "(76034, 2816)\n"
     ]
    }
   ],
   "source": [
    "dataset = pd.read_csv(\"../../../moodo/dataset2.csv\", header=None)\n",
    "\n",
    "# columns: 0:2809 -> features, 2809:2816 -> targets\n",
    "'''\n",
    "targets in order (8): \n",
    "2809: 'SongID'\n",
    "2810: 'H'\n",
    "2811: 'S'\n",
    "2812: 'V'\n",
    "2813: 'Val'\n",
    "2814: 'Ar'\n",
    "2815: 'Emotion'\n",
    "2816: 'EmotionEncoded'\n",
    "'''\n",
    "print(dataset.shape)"
   ]
  },
  {
   "cell_type": "code",
   "execution_count": 4,
   "metadata": {},
   "outputs": [
    {
     "name": "stdout",
     "output_type": "stream",
     "text": [
      "(76034, 2816)\n",
      "(76034, 2814)\n",
      "Emotion Mapping: {'Anger': 0, 'Anticipation': 1, 'Calmness': 2, 'Dreamy': 3, 'Fear': 4, 'Gloominess': 5, 'Happiness': 6, 'Inspiring': 7, 'Joy': 8, 'Liveliness': 9, 'Longing': 10, 'Relaxed': 11, 'Sadness': 12, 'Surprise': 13}\n"
     ]
    }
   ],
   "source": [
    "# included : stop before\n",
    "print(dataset.shape)\n",
    "\n",
    "filtered_data = dataset.drop(columns=[2809, 2815]).values\n",
    "final_data = filtered_data[:, :-6]\n",
    "label_array = filtered_data[:, -1]\n",
    "hsv_array = filtered_data[:, -6:-3]\n",
    "\n",
    "print(filtered_data.shape)\n",
    "\n",
    "\n",
    "emotion_mapping = dict(zip(dataset.iloc[:, -2].unique(), dataset.iloc[:, -1].unique()))\n",
    "emotion_mapping = dict(sorted(emotion_mapping.items(), key=lambda x: x[1])) # sort by value\n",
    "emotion_mapping = {k: int(v) for k, v in emotion_mapping.items()} # convert to int\n",
    "print(\"Emotion Mapping:\", emotion_mapping)"
   ]
  },
  {
   "cell_type": "code",
   "execution_count": 6,
   "metadata": {},
   "outputs": [
    {
     "name": "stdout",
     "output_type": "stream",
     "text": [
      "Train features shape: torch.Size([60827, 2802]) Test features shape: torch.Size([15207, 2802])\n",
      "Train labels shape: torch.Size([60827, 6]) Test labels shape: torch.Size([15207, 6])\n"
     ]
    }
   ],
   "source": [
    "n_split = -6 # last 6 columns: 'H', 'S', 'V', 'Val', 'Ar', 'EmotionEncoded'\n",
    "\n",
    "features = final_data[:, :n_split].astype(np.float32)\n",
    "labels = final_data[:, n_split:].astype(np.float32)\n",
    "\n",
    "features_tensor = torch.tensor(features, dtype=torch.float32)\n",
    "labels_tensor = torch.tensor(labels, dtype=torch.float32)\n",
    "train_features, test_features, train_labels, test_labels = train_test_split(features_tensor, labels_tensor, test_size=0.2, random_state=0)\n",
    "print(\"Train features shape:\", train_features.shape, \"Test features shape:\", test_features.shape)\n",
    "print(\"Train labels shape:\", train_labels.shape, \"Test labels shape:\", test_labels.shape)\n",
    "\n",
    "class AudioDataset(data.Dataset):\n",
    "    def __init__(self, X, y):\n",
    "        self.X = X\n",
    "        self.y = y\n",
    "\n",
    "    def __len__(self):\n",
    "        return len(self.X)\n",
    "\n",
    "    def __getitem__(self, idx):\n",
    "        return self.X[idx], self.y[idx]\n",
    "\n",
    "train_dataset = AudioDataset(train_features, train_labels)\n",
    "test_dataset = AudioDataset(test_features, test_labels)\n",
    "\n",
    "train_loader = data.DataLoader(train_dataset, batch_size=32, shuffle=True, drop_last=True)\n",
    "test_loader = data.DataLoader(test_dataset, batch_size=32, shuffle=False, drop_last=True)"
   ]
  },
  {
   "cell_type": "markdown",
   "metadata": {},
   "source": [
    "##### architecture"
   ]
  },
  {
   "cell_type": "code",
   "execution_count": 9,
   "metadata": {},
   "outputs": [],
   "source": [
    "class AudioEmotionModel(nn.Module):\n",
    "    def __init__(self):\n",
    "        super(AudioEmotionModel, self).__init__()\n",
    "        self.fc1 = nn.Linear(2802, 1024)\n",
    "        self.fc2 = nn.Linear(1024, 512)\n",
    "        self.fc3 = nn.Linear(512, 256)\n",
    "        self.fc4 = nn.Linear(256, 6)  # outputs 'H', 'S', 'V', 'Val', 'Ar', 'EmotionEncoded'\n",
    "        self.relu = nn.ReLU()\n",
    "\n",
    "    def forward(self, x):\n",
    "        x = self.relu(self.fc1(x))\n",
    "        x = self.relu(self.fc2(x))\n",
    "        x = self.relu(self.fc3(x))\n",
    "        x = self.fc4(x)\n",
    "        return x\n",
    "\n",
    "model = AudioEmotionModel().to(device)"
   ]
  },
  {
   "cell_type": "markdown",
   "metadata": {},
   "source": [
    "##### training"
   ]
  },
  {
   "cell_type": "code",
   "execution_count": 10,
   "metadata": {},
   "outputs": [
    {
     "name": "stdout",
     "output_type": "stream",
     "text": [
      "Epoch 100/100 | Loss: 0.0011 | Val Loss: 0.0026\r"
     ]
    },
    {
     "data": {
      "image/png": "[encoded data removed]",
      "text/plain": [
       "<Figure size 640x480 with 1 Axes>"
      ]
     },
     "metadata": {},
     "output_type": "display_data"
    }
   ],
   "source": [
    "lr = 0.001\n",
    "epochs = 100\n",
    "lf = nn.MSELoss()\n",
    "# lf = nn.CrossEntropyLoss()\n",
    "optimizer = optim.Adam(model.parameters(), lr=lr)\n",
    "\n",
    "losses = []\n",
    "va_losses = []\n",
    "for epoch in range(epochs):\n",
    "    model.train()\n",
    "    running_loss = 0.0\n",
    "    \n",
    "    for i, (inputs, targets) in enumerate(train_loader):\n",
    "        inputs, targets = inputs.to(device), targets.to(device)\n",
    "        optimizer.zero_grad()\n",
    "        outputs = model(inputs)\n",
    "        loss = lf(outputs, targets)\n",
    "        loss.backward()\n",
    "        optimizer.step()\n",
    "        \n",
    "        running_loss += loss.item()\n",
    "    \n",
    "    avg_loss = running_loss / len(train_loader)\n",
    "    losses.append(avg_loss)\n",
    "    \n",
    "    model.eval()\n",
    "    with torch.no_grad():\n",
    "        val_loss = 0.0\n",
    "        for inputs, targets in test_loader:\n",
    "            inputs, targets = inputs.to(device), targets.to(device)\n",
    "            outputs = model(inputs)\n",
    "            loss = lf(outputs, targets)\n",
    "            val_loss += loss.item()\n",
    "        \n",
    "        avg_val_loss = val_loss / len(test_loader)\n",
    "        print(f'Epoch {epoch+1}/{epochs} | Loss: {avg_loss:.4f} | Val Loss: {avg_val_loss:.4f}', end='\\r')\n",
    "    \n",
    "# generate loss plot\n",
    "plt.plot(losses)\n",
    "plt.plot(va_losses)\n",
    "plt.title('Training Performance')\n",
    "plt.xlabel('Epoch')\n",
    "plt.ylabel('Loss')\n",
    "plt.show()"
   ]
  },
  {
   "cell_type": "code",
   "execution_count": 11,
   "metadata": {},
   "outputs": [],
   "source": [
    "torch.save(model.state_dict(), f'model_epoch{epochs}.pth')"
   ]
  },
  {
   "cell_type": "markdown",
   "metadata": {},
   "source": [
    "##### testing"
   ]
  },
  {
   "cell_type": "code",
   "execution_count": 12,
   "metadata": {},
   "outputs": [
    {
     "name": "stdout",
     "output_type": "stream",
     "text": [
      "Test Loss: 0.0001 | Accuracy: 15200/15207 (99.954%)\n"
     ]
    }
   ],
   "source": [
    "model.eval()\n",
    "total_loss = 0.0\n",
    "n_correct = 0\n",
    "with torch.no_grad():\n",
    "    # inputs: X, targets: y\n",
    "    # print(test_loader.dataset.X.shape, test_loader.dataset.y.shape)\n",
    "    n_samples = len(test_loader.dataset)\n",
    "    \n",
    "    for inputs, targets in test_loader: # in batches of 32\n",
    "        outputs = model(inputs)\n",
    "        loss = lf(outputs, targets)\n",
    "        total_loss += loss.item()\n",
    "        \n",
    "        correct = [torch.all(torch.eq(targets[i], outputs[i])) for i in range(inputs.size(0))]\n",
    "        n_correct += len(correct)\n",
    "\n",
    "avg_test_loss = total_loss / n_samples\n",
    "accuracy = n_correct / n_samples * 100\n",
    "print(f'Test Loss: {avg_test_loss:.4f} | Accuracy: {n_correct}/{n_samples} ({accuracy:.3f}%)')"
   ]
  },
  {
   "cell_type": "code",
   "execution_count": 13,
   "metadata": {},
   "outputs": [
    {
     "name": "stdout",
     "output_type": "stream",
     "text": [
      "200\n"
     ]
    }
   ],
   "source": [
    "indices = {}\n",
    "with open('../../../moodo/indices.txt') as file:\n",
    "    for line in file:\n",
    "        song_id, _, start, end = line.split(',')\n",
    "        indices[song_id] = (int(start), int(end))\n",
    "\n",
    "print(len(indices))"
   ]
  },
  {
   "cell_type": "code",
   "execution_count": 205,
   "metadata": {},
   "outputs": [],
   "source": [
    "class tester():\n",
    "    def __init__(self, song_id):\n",
    "        self.mp3_file = f'../../../moodo/audio/{song_id}.mp3'\n",
    "        self.song_id = song_id\n",
    "        \n",
    "        self.i_start, self.i_end = indices[song_id]\n",
    "        \n",
    "        self.features = features[self.i_start:self.i_end]\n",
    "        self.labels = labels[self.i_start:self.i_end]\n",
    "    \n",
    "    def get_key_by_value(self, my_dict, target_value):\n",
    "        for key, value in my_dict.items():\n",
    "            if value == target_value:\n",
    "                return key\n",
    "        return None\n",
    "\n",
    "    def predict(self):\n",
    "        output_emotions = []\n",
    "        output_em_labels = []\n",
    "        output_valence = []\n",
    "        output_arousal = []\n",
    "        output_hsv = []\n",
    "        \n",
    "        for segment in self.features:\n",
    "            output = model(torch.tensor(segment, dtype=torch.float32)) # outputs 'H', 'S', 'V', 'Val', 'Ar', 'EmotionEncoded'\n",
    "            \n",
    "            output_emotions.append(self.get_key_by_value(emotion_mapping, int(output[-1].item())))\n",
    "            output_em_labels.append(output[-1].item())\n",
    "            output_valence.append(output[-3].item())\n",
    "            output_arousal.append(output[-2].item())\n",
    "            output_hsv.append(output[-6:-3].tolist())\n",
    "            \n",
    "        output_emotions = [emotion for emotion in output_emotions if emotion is not None]\n",
    "            \n",
    "        return output_emotions, output_em_labels, output_valence, output_arousal, output_hsv, self.features\n",
    "    \n",
    "    def results(self):\n",
    "        start, end = indices[song_id]\n",
    "        print(f'Expected Emotion(s): {\", \".join(sorted(set(label_array[start:end])))}')\n",
    "        \n",
    "        output_emotions, output_em_labels, output_valence, output_arousal, output_hsv, features = self.predict()\n",
    "        print(f'Outcome Emotion(s): {\", \".join(sorted(set(output_emotions)))}')\n",
    "    \n",
    "    def display(self, sigma=45):\n",
    "        output_emotions, output_em_labels, output_valence, output_arousal, output_hsv, features = self.predict()\n",
    "        \n",
    "        # generate meshgrid for a contour plot with peaks at each valence and arousal coordinate\n",
    "        # colors are based on each emotion's HSV values\n",
    "        valence_min, valence_max = np.min(output_valence), np.max(output_valence)\n",
    "        arousal_min, arousal_max = np.min(output_arousal), np.max(output_arousal)\n",
    "        \n",
    "        valence_grid, arousal_grid = np.meshgrid(np.linspace(valence_min, valence_max, 100), np.linspace(arousal_min, arousal_max, 100))\n",
    "        gradient_hsv_grid = np.zeros((100, 100, 3))\n",
    "        \n",
    "        grid_x, grid_y = np.mgrid[-1:1:100j, -1:1:100j]\n",
    "        grid_z = griddata((output_valence, output_arousal), output_em_labels, (grid_x, grid_y), method='cubic', fill_value=0)\n",
    "        colors = np.array([mcolors.hsv_to_rgb(hsv) for hsv in output_hsv])\n",
    "        \n",
    "        plt.contourf(grid_x, grid_y, grid_z, levels=50, cmap='gray', alpha=0.5)\n",
    "        plt.scatter(output_valence, output_arousal, edgecolors='black', s=100)\n",
    "        plt.xticks([]), plt.yticks([])\n",
    "        plt.xlabel(f'Emotion(s): {\", \".join(set(output_emotions))}')\n",
    "        plt.title(f'Emotion-Color Prediction | Song {self.song_id}')\n",
    "        plt.show()"
   ]
  },
  {
   "cell_type": "code",
   "execution_count": 206,
   "metadata": {},
   "outputs": [
    {
     "name": "stdout",
     "output_type": "stream",
     "text": [
      "Expected Emotion(s): Anger, Anticipation, Calmness, Dreamy, Fear, Gloominess, Happiness, Inspiring, Joy, Liveliness, Longing, Relaxed, Sadness, Surprise\n",
      "Outcome Emotion(s): Anger, Anticipation\n"
     ]
    }
   ],
   "source": [
    "# indices in dataset: 31166:32182\n",
    "song_id = '127'\n",
    "test = tester(song_id=song_id)\n",
    "test.results()"
   ]
  },
  {
   "cell_type": "markdown",
   "metadata": {},
   "source": [
    "##### applying elsewhere"
   ]
  },
  {
   "cell_type": "code",
   "execution_count": 199,
   "metadata": {},
   "outputs": [],
   "source": [
    "class Predictor():\n",
    "    def __init__(self, emotion_map):\n",
    "        self.emotion_map = emotion_map\n",
    "        self.file_path = None\n",
    "    \n",
    "    def get_key_by_value(self, target_value):\n",
    "        for key, value in self.emotion_map.items():\n",
    "            if value == target_value:\n",
    "                return key\n",
    "        return None\n",
    "    \n",
    "    def extract_features(self, sr=22050, duration=5.0, hop_size=2.5):\n",
    "        y, _ = librosa.load(self.file_path, sr=sr)\n",
    "        segment_length = int(sr * duration)\n",
    "        hop_length = int(sr * hop_size)\n",
    "\n",
    "        self.features = []\n",
    "        \n",
    "        # extract features with sliding windows\n",
    "        for start in range(0, len(y) - segment_length + 1, hop_length):\n",
    "            y_segment = y[start:start + segment_length]\n",
    "            \n",
    "            mfcc = librosa.feature.mfcc(y=y_segment, sr=sr, n_mfcc=13) # mel-frequency cepstrum features\n",
    "            dcf = librosa.feature.delta(mfcc) # delta cepstrum features\n",
    "\n",
    "            self.features.append(dcf)\n",
    "            \n",
    "        self.features = np.array(self.features)\n",
    "    \n",
    "    def predict(self, file_path, model):\n",
    "        self.model = model\n",
    "        self.file_path = file_path\n",
    "        self.extract_features()\n",
    "        \n",
    "        self.output_emotions = []\n",
    "        self.output_em_labels = []\n",
    "        self.output_valence = []\n",
    "        self.output_arousal = []\n",
    "        self.output_hsv = []\n",
    "        \n",
    "        for segment in self.features:\n",
    "            output = self.model(torch.tensor(segment.flatten()[:-6], dtype=torch.float32)) # outputs 'H', 'S', 'V', 'Val', 'Ar', 'EmotionEncoded'\n",
    "            \n",
    "            self.output_emotions.append(self.get_key_by_value(int(output[-1].item())))\n",
    "            self.output_em_labels.append(output[-1].item())\n",
    "            self.output_valence.append(output[-3].item())\n",
    "            self.output_arousal.append(output[-2].item())\n",
    "            \n",
    "            hsv = output[-6:-3].tolist()\n",
    "            # convert to postive values and normalize between 0 and 1:\n",
    "            hsv = [np.abs(value) for value in hsv]\n",
    "            hsv = [np.abs(value) / max(hsv) for value in hsv]\n",
    "            self.output_hsv.append(hsv)\n",
    "            \n",
    "        self.output_emotions = [emotion for emotion in self.output_emotions if emotion is not None]\n",
    "    \n",
    "    def gaussian_radial_gradient(self, shape, center, radius, color, alpha_scale):\n",
    "        \"\"\"Generate a radial gradient with a Gaussian distribution centered at `center`.\"\"\"\n",
    "        y, x = np.indices(shape)\n",
    "        x0, y0 = center\n",
    "        distance = np.sqrt((x - x0)**2 + (y - y0)**2)\n",
    "        \n",
    "        # Gaussian weight based on distance\n",
    "        sigma = radius / 2\n",
    "        weights = np.exp(-0.5 * (distance / sigma) ** 2)\n",
    "        \n",
    "        # Create an RGBA image\n",
    "        rgba = np.zeros((*shape, 4))\n",
    "        rgba[..., :3] = np.array(color)  # Apply RGB color\n",
    "        rgba[..., 3] = weights * alpha_scale  # Alpha channel based on weight and user scale\n",
    "        \n",
    "        return rgba\n",
    "\n",
    "    def generate_canvas(self, points, colors, padding, radius, alpha_scale, resolution_scale):\n",
    "        \"\"\"Blend multiple radial gradients on a dynamically sized canvas with adjustable resolution.\"\"\"\n",
    "        \n",
    "        # Automatically determine the canvas size based on the points and radius\n",
    "        x_vals, y_vals = zip(*points)\n",
    "        x_min, x_max = min(x_vals), max(x_vals)\n",
    "        y_min, y_max = min(y_vals), max(y_vals)\n",
    "        \n",
    "        # Expand the canvas slightly beyond the points to accommodate the gradient fade\n",
    "        width = int((x_max - x_min) + 2 * padding)  # Cast to integer\n",
    "        height = int((y_max - y_min) + 2 * padding)  # Cast to integer\n",
    "        \n",
    "        # Scale up the canvas size for better resolution\n",
    "        width *= resolution_scale\n",
    "        height *= resolution_scale\n",
    "        \n",
    "        # Adjust points to fit within the new coordinate system and scale them\n",
    "        adjusted_points = [(int((x - x_min + padding) * resolution_scale), \n",
    "                            int((y - y_min + padding) * resolution_scale)) \n",
    "                        for x, y in points]\n",
    "        \n",
    "        canvas = np.zeros((height, width, 4))  # RGBA canvas\n",
    "\n",
    "        for (x, y), hsv in zip(adjusted_points, colors):\n",
    "            rgb = hsv_to_rgb(hsv)  # Convert HSV to RGB\n",
    "            gradient = self.gaussian_radial_gradient((height, width), (x, y), radius, rgb, alpha_scale=alpha_scale)\n",
    "            \n",
    "            # Alpha blending\n",
    "            alpha = gradient[..., 3]\n",
    "            for c in range(3):  # Blend R, G, B channels\n",
    "                canvas[..., c] = canvas[..., c] * (1 - alpha) + gradient[..., c] * alpha\n",
    "            canvas[..., 3] = np.maximum(canvas[..., 3], alpha)  # Preserve max alpha\n",
    "        \n",
    "        return canvas\n",
    "\n",
    "    def display(self, figsize=(6,6), radius=50, padding=50, alpha_scale=1.0, resolution_scale=1):\n",
    "        in_points = list(zip(self.output_valence, self.output_arousal))\n",
    "        \n",
    "        canvas = self.generate_canvas(\n",
    "            points = in_points, \n",
    "            colors = self.output_hsv,\n",
    "            padding = padding, \n",
    "            radius = radius,\n",
    "            alpha_scale = alpha_scale, \n",
    "            resolution_scale = resolution_scale)\n",
    "        \n",
    "        plt.figure(figsize=figsize)\n",
    "        plt.imshow(canvas)\n",
    "        plt.gca().set_xticks([]), plt.gca().set_yticks([])  # Hide axis ticks\n",
    "        plt.gca().spines['top'].set_visible(False), plt.gca().spines['bottom'].set_visible(False)\n",
    "        plt.gca().spines['right'].set_visible(False), plt.gca().spines['left'].set_visible(False)\n",
    "        plt.xlabel(f'Emotion(s): {\", \".join(set(self.output_emotions))}')\n",
    "        plt.title(f'Emotion-Color Prediction | Song: {self.file_path}')\n",
    "        plt.show()"
   ]
  },
  {
   "cell_type": "code",
   "execution_count": 200,
   "metadata": {},
   "outputs": [
    {
     "data": {
      "image/png": "[encoded data removed]",
      "text/plain": [
       "<Figure size 600x600 with 1 Axes>"
      ]
     },
     "metadata": {},
     "output_type": "display_data"
    }
   ],
   "source": [
    "p = Predictor(emotion_map=emotion_mapping)\n",
    "p.predict(file_path='luther.mp3', model=model)\n",
    "p.display(padding=3, radius=50, alpha_scale=0.9, resolution_scale=8)"
   ]
  }
 ],
 "metadata": {
  "kernelspec": {
   "display_name": "dxarts",
   "language": "python",
   "name": "python3"
  },
  "language_info": {
   "codemirror_mode": {
    "name": "ipython",
    "version": 3
   },
   "file_extension": ".py",
   "mimetype": "text/x-python",
   "name": "python",
   "nbconvert_exporter": "python",
   "pygments_lexer": "ipython3",
   "version": "3.11.11"
  }
 },
 "nbformat": 4,
 "nbformat_minor": 2
}
