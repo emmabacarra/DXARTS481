{
 "cells": [
  {
   "cell_type": "markdown",
   "metadata": {},
   "source": [
    "##### packages"
   ]
  },
  {
   "cell_type": "code",
   "execution_count": 70,
   "metadata": {},
   "outputs": [],
   "source": [
    "import csv\n",
    "import os\n",
    "import time\n",
    "\n",
    "import numpy as np\n",
    "import pandas as pd\n",
    "from sklearn.preprocessing import LabelEncoder\n",
    "from sklearn.model_selection import train_test_split\n",
    "from sklearn.decomposition import PCA, KernelPCA\n",
    "\n",
    "import torch\n",
    "import torch.utils.data as data\n",
    "import torch.nn as nn\n",
    "import torch.optim as optim\n",
    "\n",
    "import librosa\n",
    "\n",
    "import matplotlib.pyplot as plt\n",
    "from matplotlib.colors import hsv_to_rgb\n",
    "import matplotlib.colors as mcolors\n",
    "from scipy.interpolate import griddata\n",
    "import plotly.graph_objects as go\n",
    "import anywidget\n",
    "from scipy.ndimage import gaussian_filter\n",
    "from IPython.display import display\n",
    "\n",
    "device = torch.device(\"cuda\" if torch.cuda.is_available() else \"cpu\")"
   ]
  },
  {
   "cell_type": "markdown",
   "metadata": {},
   "source": [
    "##### loading data"
   ]
  },
  {
   "cell_type": "code",
   "execution_count": 2,
   "metadata": {},
   "outputs": [],
   "source": [
    "# with open('../../../moodo/dataset.csv') as file:\n",
    "#     reader = csv.reader(file)\n",
    "#     csv_dataset = np.array([row for row in reader])\n",
    "\n",
    "# csv_dataset = pd.read_csv(\"../../../moodo/dataset.csv\", dtype=str) # read as strings\n",
    "# csv_dataset.set_index(\"SongID\", inplace=True)\n",
    "\n",
    "# # ---------------------------------\n",
    "# # encoding emotions\n",
    "# emotions = csv_dataset[\"Emotion\"].unique()\n",
    "# encoder = LabelEncoder()\n",
    "# encoder.fit(emotions)\n",
    "# csv_dataset[\"EmotionEncoded\"] = encoder.transform(csv_dataset[\"Emotion\"])\n",
    "# emotion_mapping = dict(zip(encoder.classes_, encoder.transform(encoder.classes_)))\n",
    "\n",
    "# print(\"Emotion Mapping:\", emotion_mapping)\n",
    "\n",
    "# # ---------------------------------\n",
    "# df = pd.DataFrame(csv_dataset)\n",
    "# feature_dir = \"../../../moodo/audio_features2\"\n",
    "\n",
    "# final_data = []\n",
    "# label_array = []\n",
    "# hsv_array = []\n",
    "# for filename in os.listdir(feature_dir):\n",
    "#     song_id = filename.split('.')[0]\n",
    "#     file_path = os.path.join(feature_dir, filename)\n",
    "\n",
    "#     # shape: (n_segments, 13, 216)\n",
    "#     feature_matrix = np.load(file_path)\n",
    "#     n_segment = feature_matrix.shape[0]\n",
    "    \n",
    "#     emotion_label = df.loc[song_id, \"EmotionEncoded\"]\n",
    "#     label_array.extend([emotion_label] * n_segment)\n",
    "#     hsv = [df.loc[song_id, 'H'], df.loc[song_id, 'S'], df.loc[song_id, 'V']]\n",
    "#     hsv_array.extend([np.asarray(hsv)] * n_segment)\n",
    "    \n",
    "#     metadata = df.drop(columns='Emotion').loc[song_id].values\n",
    "\n",
    "#     for segment in feature_matrix:\n",
    "#         row = np.hstack([segment.flatten(), metadata])  # 13x216 = 2808   + 6 (metadata) = 2814\n",
    "#         final_data.append(row)\n",
    "\n",
    "# final_data = np.array(final_data, dtype=float)\n",
    "\n",
    "# print(\"Final dataset shape:\", final_data.shape)\n",
    "# print(\"Label array shape:\", len(label_array))\n",
    "# print(\"HSV array shape:\", len(hsv_array))"
   ]
  },
  {
   "cell_type": "code",
   "execution_count": null,
   "metadata": {},
   "outputs": [
    {
     "name": "stdout",
     "output_type": "stream",
     "text": [
      "(76034, 2816)\n"
     ]
    }
   ],
   "source": [
    "dataset = pd.read_csv(\"../../../moodo/dataset2.csv\", header=None)\n",
    "\n",
    "# columns: 0:2809 -> features, 2809:2816 -> targets\n",
    "'''\n",
    "targets in order (8): \n",
    "2809: 'SongID'\n",
    "2810: 'H'\n",
    "2811: 'S'\n",
    "2812: 'V'\n",
    "2813: 'Val'\n",
    "2814: 'Ar'\n",
    "2815: 'Emotion'\n",
    "2816: 'EmotionEncoded'\n",
    "'''\n",
    "print(dataset.shape)"
   ]
  },
  {
   "cell_type": "code",
   "execution_count": 67,
   "metadata": {},
   "outputs": [
    {
     "name": "stdout",
     "output_type": "stream",
     "text": [
      "(76034, 2816)\n",
      "(76034, 2814)\n",
      "Emotion Mapping: {'Anger': 0, 'Anticipation': 1, 'Calmness': 2, 'Dreamy': 3, 'Fear': 4, 'Gloominess': 5, 'Happiness': 6, 'Inspiring': 7, 'Joy': 8, 'Liveliness': 9, 'Longing': 10, 'Relaxed': 11, 'Sadness': 12, 'Surprise': 13}\n"
     ]
    }
   ],
   "source": [
    "# included : stop before\n",
    "print(dataset.shape)\n",
    "\n",
    "filtered_data = dataset.drop(columns=[2809, 2815]).values\n",
    "final_data = filtered_data[:, :-6]\n",
    "label_array = filtered_data[:, -1]\n",
    "hsv_array = filtered_data[:, -6:-3]\n",
    "\n",
    "print(filtered_data.shape)\n",
    "\n",
    "\n",
    "emotion_mapping = dict(zip(dataset.iloc[:, -2].unique(), dataset.iloc[:, -1].unique()))\n",
    "emotion_mapping = dict(sorted(emotion_mapping.items(), key=lambda x: x[1])) # sort by value\n",
    "emotion_mapping = {k: int(v) for k, v in emotion_mapping.items()} # convert to int\n",
    "print(\"Emotion Mapping:\", emotion_mapping)"
   ]
  },
  {
   "cell_type": "code",
   "execution_count": 29,
   "metadata": {},
   "outputs": [
    {
     "name": "stdout",
     "output_type": "stream",
     "text": [
      "Train features shape: torch.Size([60827, 2804]) Test features shape: torch.Size([15207, 2804])\n",
      "Train labels shape: torch.Size([60827, 6]) Test labels shape: torch.Size([15207, 6])\n"
     ]
    }
   ],
   "source": [
    "n_split = -6 # last 6 columns: 'H', 'S', 'V', 'Val', 'Ar', 'EmotionEncoded'\n",
    "\n",
    "features = final_data[:, :n_split]\n",
    "labels = final_data[:, n_split:]\n",
    "\n",
    "features_tensor = torch.tensor(features, dtype=torch.float32)\n",
    "labels_tensor = torch.tensor(labels, dtype=torch.float32)\n",
    "train_features, test_features, train_labels, test_labels = train_test_split(features_tensor, labels_tensor, test_size=0.2, random_state=0)\n",
    "print(\"Train features shape:\", train_features.shape, \"Test features shape:\", test_features.shape)\n",
    "print(\"Train labels shape:\", train_labels.shape, \"Test labels shape:\", test_labels.shape)\n",
    "\n",
    "class AudioDataset(data.Dataset):\n",
    "    def __init__(self, X, y):\n",
    "        self.X = X\n",
    "        self.y = y\n",
    "\n",
    "    def __len__(self):\n",
    "        return len(self.X)\n",
    "\n",
    "    def __getitem__(self, idx):\n",
    "        return self.X[idx], self.y[idx]\n",
    "\n",
    "train_dataset = AudioDataset(train_features, train_labels)\n",
    "test_dataset = AudioDataset(test_features, test_labels)\n",
    "\n",
    "train_loader = data.DataLoader(train_dataset, batch_size=32, shuffle=True, drop_last=True)\n",
    "test_loader = data.DataLoader(test_dataset, batch_size=32, shuffle=False, drop_last=True)"
   ]
  },
  {
   "cell_type": "markdown",
   "metadata": {},
   "source": [
    "##### architecture"
   ]
  },
  {
   "cell_type": "code",
   "execution_count": 30,
   "metadata": {},
   "outputs": [],
   "source": [
    "class AudioEmotionModel(nn.Module):\n",
    "    def __init__(self):\n",
    "        super(AudioEmotionModel, self).__init__()\n",
    "        self.fc1 = nn.Linear(2804, 1024)\n",
    "        self.fc2 = nn.Linear(1024, 512)\n",
    "        self.fc3 = nn.Linear(512, 256)\n",
    "        self.fc4 = nn.Linear(256, 6)  # outputs 'H', 'S', 'V', 'Val', 'Ar', 'EmotionEncoded'\n",
    "        self.relu = nn.ReLU()\n",
    "\n",
    "    def forward(self, x):\n",
    "        x = self.relu(self.fc1(x))\n",
    "        x = self.relu(self.fc2(x))\n",
    "        x = self.relu(self.fc3(x))\n",
    "        x = self.fc4(x)\n",
    "        return x\n",
    "\n",
    "model = AudioEmotionModel().to(device)"
   ]
  },
  {
   "cell_type": "markdown",
   "metadata": {},
   "source": [
    "##### training"
   ]
  },
  {
   "cell_type": "code",
   "execution_count": null,
   "metadata": {},
   "outputs": [
    {
     "name": "stdout",
     "output_type": "stream",
     "text": [
      "Epoch 100/100, Loss: 4.1486\r"
     ]
    },
    {
     "data": {
      "image/png": "[encoded data removed]",
      "text/plain": [
       "<Figure size 640x480 with 1 Axes>"
      ]
     },
     "metadata": {},
     "output_type": "display_data"
    }
   ],
   "source": [
    "lr = 0.001\n",
    "epochs = 100\n",
    "lf = nn.MSELoss()\n",
    "# lf = nn.CrossEntropyLoss()\n",
    "optimizer = optim.Adam(model.parameters(), lr=lr)\n",
    "\n",
    "losses = []\n",
    "va_losses = []\n",
    "for epoch in range(epochs):\n",
    "    model.train()\n",
    "    running_loss = 0.0\n",
    "    \n",
    "    for i, (inputs, targets) in enumerate(train_loader):\n",
    "        inputs, targets = inputs.to(device), targets.to(device)\n",
    "        optimizer.zero_grad()\n",
    "        outputs = model(inputs)\n",
    "        loss = lf(outputs, targets)\n",
    "        loss.backward()\n",
    "        optimizer.step()\n",
    "        \n",
    "        running_loss += loss.item()\n",
    "    \n",
    "    avg_loss = running_loss / len(train_loader)\n",
    "    losses.append(avg_loss)\n",
    "    \n",
    "    model.eval()\n",
    "    with torch.no_grad():\n",
    "        val_loss = 0.0\n",
    "        for inputs, targets in test_loader:\n",
    "            inputs, targets = inputs.to(device), targets.to(device)\n",
    "            outputs = model(inputs)\n",
    "            loss = lf(outputs, targets)\n",
    "            val_loss += loss.item()\n",
    "        \n",
    "        avg_val_loss = val_loss / len(test_loader)\n",
    "        print(f'Epoch {epoch+1}/{epochs} | Loss: {avg_loss:.4f} | Val Loss: {avg_val_loss:.4f}', end='\\r')\n",
    "    \n",
    "# generate loss plot\n",
    "plt.plot(losses)\n",
    "plt.plot(va_losses)\n",
    "plt.title('Training Performance')\n",
    "plt.xlabel('Epoch')\n",
    "plt.ylabel('Loss')\n",
    "plt.show()"
   ]
  },
  {
   "cell_type": "code",
   "execution_count": 32,
   "metadata": {},
   "outputs": [],
   "source": [
    "torch.save(model.state_dict(), f'model_epoch{epochs}.pth')"
   ]
  },
  {
   "cell_type": "markdown",
   "metadata": {},
   "source": [
    "##### testing"
   ]
  },
  {
   "cell_type": "code",
   "execution_count": null,
   "metadata": {},
   "outputs": [
    {
     "name": "stdout",
     "output_type": "stream",
     "text": [
      "torch.Size([15207, 2804]) torch.Size([15207, 6])\n",
      "Test Loss: 0.0999 | Accuracy: 15200/15207 (99.954%)\n"
     ]
    }
   ],
   "source": [
    "model.eval()\n",
    "total_loss = 0.0\n",
    "n_correct = 0\n",
    "with torch.no_grad():\n",
    "    # inputs: X, targets: y\n",
    "    # print(test_loader.dataset.X.shape, test_loader.dataset.y.shape)\n",
    "    n_samples = len(test_loader.dataset)\n",
    "    \n",
    "    for inputs, targets in test_loader: # in batches of 32\n",
    "        outputs = model(inputs)\n",
    "        loss = lf(outputs, targets)\n",
    "        total_loss += loss.item()\n",
    "        \n",
    "        correct = [torch.all(torch.eq(targets[i], outputs[i])) for i in range(inputs.size(0))]\n",
    "        n_correct += len(correct)\n",
    "\n",
    "avg_test_loss = total_loss / n_samples\n",
    "accuracy = n_correct / n_samples * 100\n",
    "print(f'Test Loss: {avg_test_loss:.4f} | Accuracy: {n_correct}/{n_samples} ({accuracy:.3f}%)')"
   ]
  },
  {
   "cell_type": "markdown",
   "metadata": {},
   "source": [
    "##### applying elsewhere"
   ]
  },
  {
   "cell_type": "code",
   "execution_count": 63,
   "metadata": {},
   "outputs": [
    {
     "name": "stdout",
     "output_type": "stream",
     "text": [
      "200\n"
     ]
    }
   ],
   "source": [
    "indices = {}\n",
    "with open('../../../moodo/indices.txt') as file:\n",
    "    for line in file:\n",
    "        song_id, _, start, end = line.split(',')\n",
    "        indices[song_id] = (int(start), int(end))\n",
    "\n",
    "print(len(indices))"
   ]
  },
  {
   "cell_type": "code",
   "execution_count": 94,
   "metadata": {},
   "outputs": [],
   "source": [
    "class EmotionPredictor():\n",
    "    def __init__(self, song_id):\n",
    "        self.mp3_file = f'../../../moodo/audio/{song_id}.mp3'\n",
    "        self.song_id = song_id\n",
    "        \n",
    "        self.i_start, self.i_end = indices[song_id]\n",
    "        \n",
    "        self.features = features[self.i_start:self.i_end]\n",
    "        self.labels = labels[self.i_start:self.i_end]\n",
    "    \n",
    "    def get_key_by_value(self, my_dict, target_value):\n",
    "        for key, value in my_dict.items():\n",
    "            if value == target_value:\n",
    "                return key\n",
    "        return None\n",
    "\n",
    "    def predict(self):\n",
    "        output_emotions = []\n",
    "        output_em_labels = []\n",
    "        output_valence = []\n",
    "        output_arousal = []\n",
    "        output_hsv = []\n",
    "        \n",
    "        for segment in self.features:\n",
    "            output = model(torch.tensor(segment, dtype=torch.float32)) # outputs 'H', 'S', 'V', 'Val', 'Ar', 'EmotionEncoded'\n",
    "            \n",
    "            output_emotions.append(self.get_key_by_value(emotion_mapping, output[-1].item()))\n",
    "            output_em_labels.append(output[-1].item())\n",
    "            output_valence.append(output[-3].item())\n",
    "            output_arousal.append(output[-2].item())\n",
    "            output_hsv.append(output[-6:-3].tolist())\n",
    "        \n",
    "        return output_emotions, output_em_labels, output_valence, output_arousal, output_hsv, self.features\n",
    "    \n",
    "    def display(self, sigma=45):\n",
    "        output_emotions, output_em_labels, output_valence, output_arousal, output_hsv, features = self.predict()\n",
    "        \n",
    "        # generate meshgrid for a contour plot with peaks at each valence and arousal coordinate\n",
    "        # colors are based on each emotion's HSV values\n",
    "        valence_min, valence_max = np.min(output_valence), np.max(output_valence)\n",
    "        arousal_min, arousal_max = np.min(output_arousal), np.max(output_arousal)\n",
    "        \n",
    "        valence_grid, arousal_grid = np.meshgrid(np.linspace(valence_min, valence_max, 100), np.linspace(arousal_min, arousal_max, 100))\n",
    "        gradient_hsv_grid = np.zeros((100, 100, 3))\n",
    "        \n",
    "        grid_x, grid_y = np.mgrid[-1:1:100j, -1:1:100j]\n",
    "        grid_z = griddata((output_valence, output_arousal), output_em_labels, (grid_x, grid_y), method='cubic', fill_value=0)\n",
    "        colors = np.array([mcolors.hsv_to_rgb(hsv) for hsv in output_hsv])\n",
    "        \n",
    "        output_emotions = [x for x in output_emotions if x is not None]\n",
    "        \n",
    "        plt.contourf(grid_x, grid_y, grid_z, levels=50, cmap='gray', alpha=0.5)\n",
    "        plt.scatter(output_valence, output_arousal, edgecolors='black', s=100)\n",
    "        plt.xticks([]), plt.yticks([])\n",
    "        plt.xlabel(f'Emotion(s): {\", \".join(set(output_emotions))}')\n",
    "        plt.title(f'Emotion-Color Prediction | Song {self.song_id}')\n",
    "        plt.show()"
   ]
  },
  {
   "cell_type": "code",
   "execution_count": null,
   "metadata": {},
   "outputs": [
    {
     "data": {
      "image/png": "[encoded data removed]",
      "text/plain": [
       "<Figure size 640x480 with 1 Axes>"
      ]
     },
     "metadata": {},
     "output_type": "display_data"
    }
   ],
   "source": [
    "# indices in dataset: 31166:32182\n",
    "test = EmotionPredictor(song_id='127')\n",
    "test.display()\n"
   ]
  }
 ],
 "metadata": {
  "kernelspec": {
   "display_name": "dxarts",
   "language": "python",
   "name": "python3"
  },
  "language_info": {
   "codemirror_mode": {
    "name": "ipython",
    "version": 3
   },
   "file_extension": ".py",
   "mimetype": "text/x-python",
   "name": "python",
   "nbconvert_exporter": "python",
   "pygments_lexer": "ipython3",
   "version": "3.11.11"
  }
 },
 "nbformat": 4,
 "nbformat_minor": 2
}
