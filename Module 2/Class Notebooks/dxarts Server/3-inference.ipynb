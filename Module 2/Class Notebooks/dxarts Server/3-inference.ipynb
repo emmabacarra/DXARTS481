{
 "cells": [
  {
   "cell_type": "code",
   "execution_count": 1,
   "id": "871c8b98-fc4d-4500-b016-abc4647dfbaf",
   "metadata": {},
   "outputs": [
    {
     "name": "stderr",
     "output_type": "stream",
     "text": [
      "2025-02-05 02:12:53.526883: E external/local_xla/xla/stream_executor/cuda/cuda_fft.cc:477] Unable to register cuFFT factory: Attempting to register factory for plugin cuFFT when one has already been registered\n",
      "WARNING: All log messages before absl::InitializeLog() is called are written to STDERR\n",
      "E0000 00:00:1738721573.545591    2847 cuda_dnn.cc:8310] Unable to register cuDNN factory: Attempting to register factory for plugin cuDNN when one has already been registered\n",
      "E0000 00:00:1738721573.551428    2847 cuda_blas.cc:1418] Unable to register cuBLAS factory: Attempting to register factory for plugin cuBLAS when one has already been registered\n",
      "2025-02-05 02:12:53.572052: I tensorflow/core/platform/cpu_feature_guard.cc:210] This TensorFlow binary is optimized to use available CPU instructions in performance-critical operations.\n",
      "To enable the following instructions: AVX2 FMA, in other operations, rebuild TensorFlow with the appropriate compiler flags.\n"
     ]
    },
    {
     "data": {
      "application/vnd.jupyter.widget-view+json": {
       "model_id": "5040bca043f44c479ea80a796d89ba8f",
       "version_major": 2,
       "version_minor": 0
      },
      "text/plain": [
       "Loading checkpoint shards:   0%|          | 0/2 [00:00<?, ?it/s]"
      ]
     },
     "metadata": {},
     "output_type": "display_data"
    }
   ],
   "source": [
    "import torch\n",
    "from transformers import AutoTokenizer, AutoModelForCausalLM, BitsAndBytesConfig\n",
    "\n",
    "base_model_id = \"mistralai/Mistral-7B-v0.1\"\n",
    "bnb_config = BitsAndBytesConfig(\n",
    "    load_in_4bit=True,\n",
    "    bnb_4bit_use_double_quant=True,\n",
    "    bnb_4bit_quant_type=\"nf4\",\n",
    "    bnb_4bit_compute_dtype=torch.bfloat16\n",
    ")\n",
    "\n",
    "base_model = AutoModelForCausalLM.from_pretrained(\n",
    "    base_model_id,  # Mistral, same as before\n",
    "    quantization_config=bnb_config,  # Same quantization config as before\n",
    "    device_map=\"auto\",\n",
    "    trust_remote_code=True,\n",
    ")\n",
    "\n",
    "eval_tokenizer = AutoTokenizer.from_pretrained(base_model_id, add_bos_token=True, trust_remote_code=True)"
   ]
  },
  {
   "cell_type": "code",
   "execution_count": 2,
   "id": "ca53b4d0-2ea0-4258-9558-56b4ff9a2ab7",
   "metadata": {},
   "outputs": [],
   "source": [
    "from peft import PeftModel\n",
    "\n",
    "ft_model = PeftModel.from_pretrained(base_model, \"mistral-journal-finetune/checkpoint-500\")"
   ]
  },
  {
   "cell_type": "code",
   "execution_count": 6,
   "id": "0fec4e34-745b-4971-8d2d-8433940bddf0",
   "metadata": {},
   "outputs": [
    {
     "name": "stderr",
     "output_type": "stream",
     "text": [
      "Setting `pad_token_id` to `eos_token_id`:2 for open-end generation.\n"
     ]
    },
    {
     "name": "stdout",
     "output_type": "stream",
     "text": [
      "Previous: There is off-street parking and and empty swimming pool\n",
      "Next: 10 minutes to downtown Seattle.\n",
      "Description for posting 238:\n",
      "This is a room in a house with 4 other people.\n",
      "\n",
      "The room is $750/month, plus $70/month for utilities.\n",
      "\n",
      "The room is furnished with a bed, desk, chair, and dresser.\n",
      "\n",
      "The house has a full kitchen, laundry, and a large backyard.\n",
      "\n",
      "The house is located in the Green Lake neighborhood\n"
     ]
    }
   ],
   "source": [
    "my_input = \"There is off-street parking and and empty swimming pool\"\n",
    "# eval_prompt = f\"### Previous: {my_input}\\n ### Next: \"\n",
    "eval_prompt = f\"Previous: {my_input}\\nNext: \"\n",
    "model_input = eval_tokenizer(eval_prompt, return_tensors=\"pt\").to(\"cuda\")\n",
    "\n",
    "ft_model.eval()\n",
    "with torch.no_grad():\n",
    "    print(eval_tokenizer.decode(ft_model.generate(\n",
    "        **model_input, \n",
    "        max_new_tokens=100, \n",
    "        repetition_penalty=1.05)[0], skip_special_tokens=True))"
   ]
  },
  {
   "cell_type": "code",
   "execution_count": 14,
   "id": "54f70fa2-6204-4940-b40b-dc68f86b1533",
   "metadata": {},
   "outputs": [
    {
     "name": "stderr",
     "output_type": "stream",
     "text": [
      "Setting `pad_token_id` to `eos_token_id`:2 for open-end generation.\n"
     ]
    },
    {
     "name": "stdout",
     "output_type": "stream",
     "text": [
      "Previous: There is off-street parking and an empty swimming pool\n",
      "Next: 😞We take drug addictions very seriously; therefore any application submitted by candidates actively involved in drug\n",
      "$$0.00month\n",
      "Rented/No parking\n",
      "Rent: +\n",
      "util +\n",
      "shared Wi-Fi cost-sharin. Available January 15.\n",
      "Description for posting 152:We invite qualified person to occupancy at 250. Room in three beds house.This offer is great  for a quiet man; clean house; wellness room; with refrigerator , wash and dry\n",
      "No-smacks\n",
      "$$820.20month\n",
      "RarelyRent\n",
      "Rent: , 500 + utilities.\n",
      "Description for listing 150:2br/2.5th in quiet , walk and bus nearby houses / clean house and friendly roomemtes are looking for.\n",
      "Nice with washer and dry in-suite. Walk in closet and en-suite.\n",
      "\n"
     ]
    }
   ],
   "source": [
    "import torch\n",
    "\n",
    "# Input text\n",
    "my_input = \"There is off-street parking and an empty swimming pool\"\n",
    "# eval_prompt = f\"### Previous: {my_input}\\n ### Next: \"\n",
    "eval_prompt = f\"Previous: {my_input}\\nNext: \"\n",
    "model_input = eval_tokenizer(eval_prompt, return_tensors=\"pt\").to(\"cuda\")\n",
    "\n",
    "# Generate text with specified temperature and top-p parameters\n",
    "ft_model.eval()\n",
    "with torch.no_grad():\n",
    "    generated_ids = ft_model.generate(\n",
    "        **model_input, \n",
    "        max_new_tokens=200, \n",
    "        repetition_penalty=0.85, \n",
    "        temperature=2.0,  # Lower temperature for more coherent results, higher for more randomness\n",
    "        top_p=1.9,  \n",
    "        do_sample = True\n",
    "    )\n",
    "    generated_text = eval_tokenizer.decode(generated_ids[0], skip_special_tokens=True)\n",
    "\n",
    "print(generated_text)\n"
   ]
  },
  {
   "cell_type": "code",
   "execution_count": null,
   "id": "154c3bc2-2ed1-4f35-94de-b4767762d765",
   "metadata": {},
   "outputs": [],
   "source": []
  }
 ],
 "metadata": {
  "kernelspec": {
   "display_name": "Python 3 (ipykernel)",
   "language": "python",
   "name": "python3"
  },
  "language_info": {
   "codemirror_mode": {
    "name": "ipython",
    "version": 3
   },
   "file_extension": ".py",
   "mimetype": "text/x-python",
   "name": "python",
   "nbconvert_exporter": "python",
   "pygments_lexer": "ipython3",
   "version": "3.11.0rc1"
  }
 },
 "nbformat": 4,
 "nbformat_minor": 5
}
