{
 "cells": [
  {
   "cell_type": "markdown",
   "metadata": {},
   "source": [
    "### packages"
   ]
  },
  {
   "cell_type": "code",
   "execution_count": 2,
   "metadata": {},
   "outputs": [],
   "source": [
    "import os\n",
    "import requests\n",
    "from bs4 import BeautifulSoup\n",
    "import pypdf\n",
    "from reportlab.pdfgen import canvas\n",
    "import re"
   ]
  },
  {
   "cell_type": "markdown",
   "metadata": {},
   "source": [
    "### expert titles"
   ]
  },
  {
   "cell_type": "code",
   "execution_count": 3,
   "metadata": {},
   "outputs": [],
   "source": [
    "response = requests.get('https://www.architecturaldigest.com/adpro/directory/businesses?category=outdoor-garden-design')\n",
    "soup = BeautifulSoup(response.text)"
   ]
  },
  {
   "cell_type": "code",
   "execution_count": 13,
   "metadata": {},
   "outputs": [
    {
     "name": "stdout",
     "output_type": "stream",
     "text": [
      "Folia Gardens\n",
      "LaGuardia Design Group\n",
      "Hollander Design Landscape Architects\n",
      "Skornicka Designs and Construction\n",
      "Oehme, van Sweden Landscape Architecture\n",
      "Melissa Gerstle Design\n",
      "Studio Arth\n",
      "Garden 26\n",
      "Terren Landscapes\n",
      "Grace Fuller Design\n",
      "Gavin Boyce-Ratliff Landscape Design\n",
      "Land Morphology\n",
      "Tropic of Capricorn\n",
      "Premier Outdoor Living\n",
      "From the Ground Up Landscape\n",
      "Quincy Hammond Landscape Architect\n",
      "ORCA\n",
      "Landscape Details\n",
      "Jonathan Fargion Design\n",
      "Todd Haiman Landscape Design\n",
      "Plant Goddess Landscaping\n",
      "Kathryn Herman Design\n",
      "Janice Parker Landscape Architects\n",
      "Nievera Williams Design Inc\n",
      "Hoffman & Ospina Landscape Architecture\n",
      "Zeterre Landscape Architecture\n",
      "Birch and Basil Design\n",
      "Evan C. Lai Landscape Design\n",
      "Dune Hai\n",
      "James Doyle Design Associates\n",
      "Marshall Paetzel Landscape Architecture\n",
      "Benner Landscape Design\n",
      "Titles saved to txtfiles/experts.txt\n"
     ]
    }
   ],
   "source": [
    "experts = soup.select('div.summary-list__items a.summary-item__hed-link')\n",
    "\n",
    "for t in experts:\n",
    "    print(t.text)\n",
    "\n",
    "file_name = 'txtfiles/experts.txt'\n",
    "os.makedirs(os.path.dirname(file_name), exist_ok=True)\n",
    "with open(file_name, 'w') as file:\n",
    "    for t in experts:\n",
    "        title_text = t.text.strip() # strip whitespaces\n",
    "        file.write(f\"{title_text}\\n\") # excludes line numbers\n",
    "\n",
    "print(f\"Titles saved to {file_name}\")"
   ]
  },
  {
   "cell_type": "markdown",
   "metadata": {},
   "source": [
    "### images"
   ]
  },
  {
   "cell_type": "code",
   "execution_count": 10,
   "metadata": {},
   "outputs": [
    {
     "name": "stdout",
     "output_type": "stream",
     "text": [
      "<img alt=\"Folia Gardens\" class=\"ResponsiveImageContainer-eybHBd fptoWY responsive-image__image\" sizes=\"100vw\" src=\"https://media.architecturaldigest.com/photos/66a13a91b5f10927b8503463/4:3/w_1024%2Cc_limit/c361d170-400b-4e4b-a0b7-fe69271422a9.jpg\" srcset=\"https://media.architecturaldigest.com/photos/66a13a91b5f10927b8503463/4:3/w_120,c_limit/c361d170-400b-4e4b-a0b7-fe69271422a9.jpg 120w, https://media.architecturaldigest.com/photos/66a13a91b5f10927b8503463/4:3/w_240,c_limit/c361d170-400b-4e4b-a0b7-fe69271422a9.jpg 240w, https://media.architecturaldigest.com/photos/66a13a91b5f10927b8503463/4:3/w_320,c_limit/c361d170-400b-4e4b-a0b7-fe69271422a9.jpg 320w, https://media.architecturaldigest.com/photos/66a13a91b5f10927b8503463/4:3/w_640,c_limit/c361d170-400b-4e4b-a0b7-fe69271422a9.jpg 640w, https://media.architecturaldigest.com/photos/66a13a91b5f10927b8503463/4:3/w_960,c_limit/c361d170-400b-4e4b-a0b7-fe69271422a9.jpg 960w\"/>\n",
      "<img alt=\"LaGuardia Design Group\" class=\"ResponsiveImageContainer-eybHBd fptoWY responsive-image__image\" sizes=\"100vw\" src=\"https://media.architecturaldigest.com/photos/6690195ad0279b984ddf8b77/4:3/w_1024%2Cc_limit/968c40fb-d0c0-4821-bd11-918bf137ffc8.jpg\" srcset=\"https://media.architecturaldigest.com/photos/6690195ad0279b984ddf8b77/4:3/w_120,c_limit/968c40fb-d0c0-4821-bd11-918bf137ffc8.jpg 120w, https://media.architecturaldigest.com/photos/6690195ad0279b984ddf8b77/4:3/w_240,c_limit/968c40fb-d0c0-4821-bd11-918bf137ffc8.jpg 240w, https://media.architecturaldigest.com/photos/6690195ad0279b984ddf8b77/4:3/w_320,c_limit/968c40fb-d0c0-4821-bd11-918bf137ffc8.jpg 320w, https://media.architecturaldigest.com/photos/6690195ad0279b984ddf8b77/4:3/w_640,c_limit/968c40fb-d0c0-4821-bd11-918bf137ffc8.jpg 640w, https://media.architecturaldigest.com/photos/6690195ad0279b984ddf8b77/4:3/w_960,c_limit/968c40fb-d0c0-4821-bd11-918bf137ffc8.jpg 960w\"/>\n",
      "<img alt=\"Hollander Design Landscape Architects\" class=\"ResponsiveImageContainer-eybHBd fptoWY responsive-image__image\" sizes=\"100vw\" src=\"https://media.architecturaldigest.com/photos/63ebfff2504ae3c856e97306/4:3/w_1024%2Cc_limit/0b293efa-5f17-439b-ac54-8af55fd7e350.jpg\" srcset=\"https://media.architecturaldigest.com/photos/63ebfff2504ae3c856e97306/4:3/w_120,c_limit/0b293efa-5f17-439b-ac54-8af55fd7e350.jpg 120w, https://media.architecturaldigest.com/photos/63ebfff2504ae3c856e97306/4:3/w_240,c_limit/0b293efa-5f17-439b-ac54-8af55fd7e350.jpg 240w, https://media.architecturaldigest.com/photos/63ebfff2504ae3c856e97306/4:3/w_320,c_limit/0b293efa-5f17-439b-ac54-8af55fd7e350.jpg 320w, https://media.architecturaldigest.com/photos/63ebfff2504ae3c856e97306/4:3/w_640,c_limit/0b293efa-5f17-439b-ac54-8af55fd7e350.jpg 640w, https://media.architecturaldigest.com/photos/63ebfff2504ae3c856e97306/4:3/w_960,c_limit/0b293efa-5f17-439b-ac54-8af55fd7e350.jpg 960w\"/>\n",
      "<img alt=\"Skornicka Designs and Construction\" class=\"ResponsiveImageContainer-eybHBd fptoWY responsive-image__image\" sizes=\"100vw\" src=\"https://media.architecturaldigest.com/photos/6737f60686d3810c1cc070d2/4:3/w_1024%2Cc_limit/a5e147ab-4ea4-4a4c-a5cf-7f93c65e26ad.jpg\" srcset=\"https://media.architecturaldigest.com/photos/6737f60686d3810c1cc070d2/4:3/w_120,c_limit/a5e147ab-4ea4-4a4c-a5cf-7f93c65e26ad.jpg 120w, https://media.architecturaldigest.com/photos/6737f60686d3810c1cc070d2/4:3/w_240,c_limit/a5e147ab-4ea4-4a4c-a5cf-7f93c65e26ad.jpg 240w, https://media.architecturaldigest.com/photos/6737f60686d3810c1cc070d2/4:3/w_320,c_limit/a5e147ab-4ea4-4a4c-a5cf-7f93c65e26ad.jpg 320w, https://media.architecturaldigest.com/photos/6737f60686d3810c1cc070d2/4:3/w_640,c_limit/a5e147ab-4ea4-4a4c-a5cf-7f93c65e26ad.jpg 640w, https://media.architecturaldigest.com/photos/6737f60686d3810c1cc070d2/4:3/w_960,c_limit/a5e147ab-4ea4-4a4c-a5cf-7f93c65e26ad.jpg 960w\"/>\n",
      "<img alt=\"Oehme, van Sweden Landscape Architecture\" class=\"ResponsiveImageContainer-eybHBd fptoWY responsive-image__image\" sizes=\"100vw\" src=\"https://media.architecturaldigest.com/photos/6751f728cc04214657f3bda8/4:3/w_1024%2Cc_limit/d6cd174f-d0fd-48f0-bfb4-b5d9974d563c.jpg\" srcset=\"https://media.architecturaldigest.com/photos/6751f728cc04214657f3bda8/4:3/w_120,c_limit/d6cd174f-d0fd-48f0-bfb4-b5d9974d563c.jpg 120w, https://media.architecturaldigest.com/photos/6751f728cc04214657f3bda8/4:3/w_240,c_limit/d6cd174f-d0fd-48f0-bfb4-b5d9974d563c.jpg 240w, https://media.architecturaldigest.com/photos/6751f728cc04214657f3bda8/4:3/w_320,c_limit/d6cd174f-d0fd-48f0-bfb4-b5d9974d563c.jpg 320w, https://media.architecturaldigest.com/photos/6751f728cc04214657f3bda8/4:3/w_640,c_limit/d6cd174f-d0fd-48f0-bfb4-b5d9974d563c.jpg 640w, https://media.architecturaldigest.com/photos/6751f728cc04214657f3bda8/4:3/w_960,c_limit/d6cd174f-d0fd-48f0-bfb4-b5d9974d563c.jpg 960w\"/>\n",
      "<img alt=\"Melissa Gerstle Design\" class=\"ResponsiveImageContainer-eybHBd fptoWY responsive-image__image\" sizes=\"100vw\" src=\"https://media.architecturaldigest.com/photos/63e65e1b470f9b6a7d32b915/4:3/w_1024%2Cc_limit/98c16e3d-7df9-4237-848f-93959ad66d52.jpg\" srcset=\"https://media.architecturaldigest.com/photos/63e65e1b470f9b6a7d32b915/4:3/w_120,c_limit/98c16e3d-7df9-4237-848f-93959ad66d52.jpg 120w, https://media.architecturaldigest.com/photos/63e65e1b470f9b6a7d32b915/4:3/w_240,c_limit/98c16e3d-7df9-4237-848f-93959ad66d52.jpg 240w, https://media.architecturaldigest.com/photos/63e65e1b470f9b6a7d32b915/4:3/w_320,c_limit/98c16e3d-7df9-4237-848f-93959ad66d52.jpg 320w, https://media.architecturaldigest.com/photos/63e65e1b470f9b6a7d32b915/4:3/w_640,c_limit/98c16e3d-7df9-4237-848f-93959ad66d52.jpg 640w, https://media.architecturaldigest.com/photos/63e65e1b470f9b6a7d32b915/4:3/w_960,c_limit/98c16e3d-7df9-4237-848f-93959ad66d52.jpg 960w\"/>\n",
      "<img alt=\"Studio Arth\" class=\"ResponsiveImageContainer-eybHBd fptoWY responsive-image__image\" sizes=\"100vw\" src=\"https://media.architecturaldigest.com/photos/6634102e779f04471c05cffa/4:3/w_1024%2Cc_limit/b10bc855-4671-47dd-a5e0-ffcb164c43fb.jpg\" srcset=\"https://media.architecturaldigest.com/photos/6634102e779f04471c05cffa/4:3/w_120,c_limit/b10bc855-4671-47dd-a5e0-ffcb164c43fb.jpg 120w, https://media.architecturaldigest.com/photos/6634102e779f04471c05cffa/4:3/w_240,c_limit/b10bc855-4671-47dd-a5e0-ffcb164c43fb.jpg 240w, https://media.architecturaldigest.com/photos/6634102e779f04471c05cffa/4:3/w_320,c_limit/b10bc855-4671-47dd-a5e0-ffcb164c43fb.jpg 320w, https://media.architecturaldigest.com/photos/6634102e779f04471c05cffa/4:3/w_640,c_limit/b10bc855-4671-47dd-a5e0-ffcb164c43fb.jpg 640w, https://media.architecturaldigest.com/photos/6634102e779f04471c05cffa/4:3/w_960,c_limit/b10bc855-4671-47dd-a5e0-ffcb164c43fb.jpg 960w\"/>\n",
      "<img alt=\"Garden 26\" class=\"ResponsiveImageContainer-eybHBd fptoWY responsive-image__image\" sizes=\"100vw\" src=\"https://media.architecturaldigest.com/photos/673cc1f2d6c04c272c7db943/4:3/w_1024%2Cc_limit/ad24bdab-e782-42f9-9967-c757288dcf0c.jpg\" srcset=\"https://media.architecturaldigest.com/photos/673cc1f2d6c04c272c7db943/4:3/w_120,c_limit/ad24bdab-e782-42f9-9967-c757288dcf0c.jpg 120w, https://media.architecturaldigest.com/photos/673cc1f2d6c04c272c7db943/4:3/w_240,c_limit/ad24bdab-e782-42f9-9967-c757288dcf0c.jpg 240w, https://media.architecturaldigest.com/photos/673cc1f2d6c04c272c7db943/4:3/w_320,c_limit/ad24bdab-e782-42f9-9967-c757288dcf0c.jpg 320w, https://media.architecturaldigest.com/photos/673cc1f2d6c04c272c7db943/4:3/w_640,c_limit/ad24bdab-e782-42f9-9967-c757288dcf0c.jpg 640w, https://media.architecturaldigest.com/photos/673cc1f2d6c04c272c7db943/4:3/w_960,c_limit/ad24bdab-e782-42f9-9967-c757288dcf0c.jpg 960w\"/>\n",
      "<img alt=\"Terren Landscapes\" class=\"ResponsiveImageContainer-eybHBd fptoWY responsive-image__image\" sizes=\"100vw\" src=\"https://media.architecturaldigest.com/photos/64b9dc0ef60a037c689ebea9/4:3/w_1024%2Cc_limit/9f0d70a8-9b70-4b49-a958-ce467f94c235.jpg\" srcset=\"https://media.architecturaldigest.com/photos/64b9dc0ef60a037c689ebea9/4:3/w_120,c_limit/9f0d70a8-9b70-4b49-a958-ce467f94c235.jpg 120w, https://media.architecturaldigest.com/photos/64b9dc0ef60a037c689ebea9/4:3/w_240,c_limit/9f0d70a8-9b70-4b49-a958-ce467f94c235.jpg 240w, https://media.architecturaldigest.com/photos/64b9dc0ef60a037c689ebea9/4:3/w_320,c_limit/9f0d70a8-9b70-4b49-a958-ce467f94c235.jpg 320w, https://media.architecturaldigest.com/photos/64b9dc0ef60a037c689ebea9/4:3/w_640,c_limit/9f0d70a8-9b70-4b49-a958-ce467f94c235.jpg 640w, https://media.architecturaldigest.com/photos/64b9dc0ef60a037c689ebea9/4:3/w_960,c_limit/9f0d70a8-9b70-4b49-a958-ce467f94c235.jpg 960w\"/>\n",
      "<img alt=\"Grace Fuller Design\" class=\"ResponsiveImageContainer-eybHBd fptoWY responsive-image__image\" sizes=\"100vw\" src=\"https://media.architecturaldigest.com/photos/66aa69d17f9de17878421953/4:3/w_1024%2Cc_limit/WK%2520IMAGE%25201.jpg\" srcset=\"https://media.architecturaldigest.com/photos/66aa69d17f9de17878421953/4:3/w_120,c_limit/WK%20IMAGE%201.jpg 120w, https://media.architecturaldigest.com/photos/66aa69d17f9de17878421953/4:3/w_240,c_limit/WK%20IMAGE%201.jpg 240w, https://media.architecturaldigest.com/photos/66aa69d17f9de17878421953/4:3/w_320,c_limit/WK%20IMAGE%201.jpg 320w, https://media.architecturaldigest.com/photos/66aa69d17f9de17878421953/4:3/w_640,c_limit/WK%20IMAGE%201.jpg 640w, https://media.architecturaldigest.com/photos/66aa69d17f9de17878421953/4:3/w_960,c_limit/WK%20IMAGE%201.jpg 960w\"/>\n",
      "<img alt=\"Gavin Boyce-Ratliff Landscape Design\" class=\"ResponsiveImageContainer-eybHBd fptoWY responsive-image__image\" sizes=\"100vw\" src=\"https://media.architecturaldigest.com/photos/675328229a1b1c200da72afe/4:3/w_1024%2Cc_limit/1a25ee2d-e410-4de1-9ab3-8c3d09cd4274.png\" srcset=\"https://media.architecturaldigest.com/photos/675328229a1b1c200da72afe/4:3/w_120,c_limit/1a25ee2d-e410-4de1-9ab3-8c3d09cd4274.png 120w, https://media.architecturaldigest.com/photos/675328229a1b1c200da72afe/4:3/w_240,c_limit/1a25ee2d-e410-4de1-9ab3-8c3d09cd4274.png 240w, https://media.architecturaldigest.com/photos/675328229a1b1c200da72afe/4:3/w_320,c_limit/1a25ee2d-e410-4de1-9ab3-8c3d09cd4274.png 320w, https://media.architecturaldigest.com/photos/675328229a1b1c200da72afe/4:3/w_640,c_limit/1a25ee2d-e410-4de1-9ab3-8c3d09cd4274.png 640w, https://media.architecturaldigest.com/photos/675328229a1b1c200da72afe/4:3/w_960,c_limit/1a25ee2d-e410-4de1-9ab3-8c3d09cd4274.png 960w\"/>\n",
      "<img alt=\"Land Morphology\" class=\"ResponsiveImageContainer-eybHBd fptoWY responsive-image__image\" sizes=\"100vw\" src=\"https://media.architecturaldigest.com/photos/67571bad65dc4630299d4c83/4:3/w_1024%2Cc_limit/47313e00-8802-4c71-b8ce-8f0409a9def7.jpg\" srcset=\"https://media.architecturaldigest.com/photos/67571bad65dc4630299d4c83/4:3/w_120,c_limit/47313e00-8802-4c71-b8ce-8f0409a9def7.jpg 120w, https://media.architecturaldigest.com/photos/67571bad65dc4630299d4c83/4:3/w_240,c_limit/47313e00-8802-4c71-b8ce-8f0409a9def7.jpg 240w, https://media.architecturaldigest.com/photos/67571bad65dc4630299d4c83/4:3/w_320,c_limit/47313e00-8802-4c71-b8ce-8f0409a9def7.jpg 320w, https://media.architecturaldigest.com/photos/67571bad65dc4630299d4c83/4:3/w_640,c_limit/47313e00-8802-4c71-b8ce-8f0409a9def7.jpg 640w, https://media.architecturaldigest.com/photos/67571bad65dc4630299d4c83/4:3/w_960,c_limit/47313e00-8802-4c71-b8ce-8f0409a9def7.jpg 960w\"/>\n",
      "<img alt=\"Tropic of Capricorn\" class=\"ResponsiveImageContainer-eybHBd fptoWY responsive-image__image\" sizes=\"100vw\" src=\"https://media.architecturaldigest.com/photos/64774bcc992adbc26396661e/4:3/w_1024%2Cc_limit/b9bef66b-ca3c-43d9-a1fd-96063a793c6d.jpg\" srcset=\"https://media.architecturaldigest.com/photos/64774bcc992adbc26396661e/4:3/w_120,c_limit/b9bef66b-ca3c-43d9-a1fd-96063a793c6d.jpg 120w, https://media.architecturaldigest.com/photos/64774bcc992adbc26396661e/4:3/w_240,c_limit/b9bef66b-ca3c-43d9-a1fd-96063a793c6d.jpg 240w, https://media.architecturaldigest.com/photos/64774bcc992adbc26396661e/4:3/w_320,c_limit/b9bef66b-ca3c-43d9-a1fd-96063a793c6d.jpg 320w, https://media.architecturaldigest.com/photos/64774bcc992adbc26396661e/4:3/w_640,c_limit/b9bef66b-ca3c-43d9-a1fd-96063a793c6d.jpg 640w, https://media.architecturaldigest.com/photos/64774bcc992adbc26396661e/4:3/w_960,c_limit/b9bef66b-ca3c-43d9-a1fd-96063a793c6d.jpg 960w\"/>\n",
      "<img alt=\"Premier Outdoor Living\" class=\"ResponsiveImageContainer-eybHBd fptoWY responsive-image__image\" sizes=\"100vw\" src=\"https://media.architecturaldigest.com/photos/6509b5dfde76efb441a16f95/4:3/w_1024%2Cc_limit/85edeb99-d72b-4864-8966-520ba703ed23.jpg\" srcset=\"https://media.architecturaldigest.com/photos/6509b5dfde76efb441a16f95/4:3/w_120,c_limit/85edeb99-d72b-4864-8966-520ba703ed23.jpg 120w, https://media.architecturaldigest.com/photos/6509b5dfde76efb441a16f95/4:3/w_240,c_limit/85edeb99-d72b-4864-8966-520ba703ed23.jpg 240w, https://media.architecturaldigest.com/photos/6509b5dfde76efb441a16f95/4:3/w_320,c_limit/85edeb99-d72b-4864-8966-520ba703ed23.jpg 320w, https://media.architecturaldigest.com/photos/6509b5dfde76efb441a16f95/4:3/w_640,c_limit/85edeb99-d72b-4864-8966-520ba703ed23.jpg 640w, https://media.architecturaldigest.com/photos/6509b5dfde76efb441a16f95/4:3/w_960,c_limit/85edeb99-d72b-4864-8966-520ba703ed23.jpg 960w\"/>\n",
      "<img alt=\"From the Ground Up Landscape\" class=\"ResponsiveImageContainer-eybHBd fptoWY responsive-image__image\" sizes=\"100vw\" src=\"https://media.architecturaldigest.com/photos/640a40e12f3833e759ce4b6a/4:3/w_1024%2Cc_limit/c9a5b413-e2c1-4ec7-ac13-98850827c58a.jpg\" srcset=\"https://media.architecturaldigest.com/photos/640a40e12f3833e759ce4b6a/4:3/w_120,c_limit/c9a5b413-e2c1-4ec7-ac13-98850827c58a.jpg 120w, https://media.architecturaldigest.com/photos/640a40e12f3833e759ce4b6a/4:3/w_240,c_limit/c9a5b413-e2c1-4ec7-ac13-98850827c58a.jpg 240w, https://media.architecturaldigest.com/photos/640a40e12f3833e759ce4b6a/4:3/w_320,c_limit/c9a5b413-e2c1-4ec7-ac13-98850827c58a.jpg 320w, https://media.architecturaldigest.com/photos/640a40e12f3833e759ce4b6a/4:3/w_640,c_limit/c9a5b413-e2c1-4ec7-ac13-98850827c58a.jpg 640w, https://media.architecturaldigest.com/photos/640a40e12f3833e759ce4b6a/4:3/w_960,c_limit/c9a5b413-e2c1-4ec7-ac13-98850827c58a.jpg 960w\"/>\n",
      "<img alt=\"Quincy Hammond Landscape Architect\" class=\"ResponsiveImageContainer-eybHBd fptoWY responsive-image__image\" sizes=\"100vw\" src=\"https://media.architecturaldigest.com/photos/63d3e757ab0dfee1a58558d5/4:3/w_1024%2Cc_limit/6962f78d-c925-4b3e-9a2a-ab6758b72559.jpg\" srcset=\"https://media.architecturaldigest.com/photos/63d3e757ab0dfee1a58558d5/4:3/w_120,c_limit/6962f78d-c925-4b3e-9a2a-ab6758b72559.jpg 120w, https://media.architecturaldigest.com/photos/63d3e757ab0dfee1a58558d5/4:3/w_240,c_limit/6962f78d-c925-4b3e-9a2a-ab6758b72559.jpg 240w, https://media.architecturaldigest.com/photos/63d3e757ab0dfee1a58558d5/4:3/w_320,c_limit/6962f78d-c925-4b3e-9a2a-ab6758b72559.jpg 320w, https://media.architecturaldigest.com/photos/63d3e757ab0dfee1a58558d5/4:3/w_640,c_limit/6962f78d-c925-4b3e-9a2a-ab6758b72559.jpg 640w, https://media.architecturaldigest.com/photos/63d3e757ab0dfee1a58558d5/4:3/w_960,c_limit/6962f78d-c925-4b3e-9a2a-ab6758b72559.jpg 960w\"/>\n",
      "<img alt=\"ORCA\" class=\"ResponsiveImageContainer-eybHBd fptoWY responsive-image__image\" sizes=\"100vw\" src=\"https://media.architecturaldigest.com/photos/66f316120edf3e2b459c9dc1/4:3/w_1024%2Cc_limit/d92476e5-3fa4-4aaa-8a27-20c87c40ba9e.png\" srcset=\"https://media.architecturaldigest.com/photos/66f316120edf3e2b459c9dc1/4:3/w_120,c_limit/d92476e5-3fa4-4aaa-8a27-20c87c40ba9e.png 120w, https://media.architecturaldigest.com/photos/66f316120edf3e2b459c9dc1/4:3/w_240,c_limit/d92476e5-3fa4-4aaa-8a27-20c87c40ba9e.png 240w, https://media.architecturaldigest.com/photos/66f316120edf3e2b459c9dc1/4:3/w_320,c_limit/d92476e5-3fa4-4aaa-8a27-20c87c40ba9e.png 320w, https://media.architecturaldigest.com/photos/66f316120edf3e2b459c9dc1/4:3/w_640,c_limit/d92476e5-3fa4-4aaa-8a27-20c87c40ba9e.png 640w, https://media.architecturaldigest.com/photos/66f316120edf3e2b459c9dc1/4:3/w_960,c_limit/d92476e5-3fa4-4aaa-8a27-20c87c40ba9e.png 960w\"/>\n",
      "<img alt=\"Landscape Details\" class=\"ResponsiveImageContainer-eybHBd fptoWY responsive-image__image\" sizes=\"100vw\" src=\"https://media.architecturaldigest.com/photos/66b13b91509db02e60e87c50/4:3/w_1024%2Cc_limit/371f6171-d28b-4065-92a2-a3456d967e4a.jpg\" srcset=\"https://media.architecturaldigest.com/photos/66b13b91509db02e60e87c50/4:3/w_120,c_limit/371f6171-d28b-4065-92a2-a3456d967e4a.jpg 120w, https://media.architecturaldigest.com/photos/66b13b91509db02e60e87c50/4:3/w_240,c_limit/371f6171-d28b-4065-92a2-a3456d967e4a.jpg 240w, https://media.architecturaldigest.com/photos/66b13b91509db02e60e87c50/4:3/w_320,c_limit/371f6171-d28b-4065-92a2-a3456d967e4a.jpg 320w, https://media.architecturaldigest.com/photos/66b13b91509db02e60e87c50/4:3/w_640,c_limit/371f6171-d28b-4065-92a2-a3456d967e4a.jpg 640w, https://media.architecturaldigest.com/photos/66b13b91509db02e60e87c50/4:3/w_960,c_limit/371f6171-d28b-4065-92a2-a3456d967e4a.jpg 960w\"/>\n",
      "<img alt=\"Jonathan Fargion Design\" class=\"ResponsiveImageContainer-eybHBd fptoWY responsive-image__image\" sizes=\"100vw\" src=\"https://media.architecturaldigest.com/photos/6679ca85a2a7f23bc886df5d/4:3/w_1024%2Cc_limit/175b3efe-e9a4-44e5-838d-7ad8bdfcf6a3.jpg\" srcset=\"https://media.architecturaldigest.com/photos/6679ca85a2a7f23bc886df5d/4:3/w_120,c_limit/175b3efe-e9a4-44e5-838d-7ad8bdfcf6a3.jpg 120w, https://media.architecturaldigest.com/photos/6679ca85a2a7f23bc886df5d/4:3/w_240,c_limit/175b3efe-e9a4-44e5-838d-7ad8bdfcf6a3.jpg 240w, https://media.architecturaldigest.com/photos/6679ca85a2a7f23bc886df5d/4:3/w_320,c_limit/175b3efe-e9a4-44e5-838d-7ad8bdfcf6a3.jpg 320w, https://media.architecturaldigest.com/photos/6679ca85a2a7f23bc886df5d/4:3/w_640,c_limit/175b3efe-e9a4-44e5-838d-7ad8bdfcf6a3.jpg 640w, https://media.architecturaldigest.com/photos/6679ca85a2a7f23bc886df5d/4:3/w_960,c_limit/175b3efe-e9a4-44e5-838d-7ad8bdfcf6a3.jpg 960w\"/>\n",
      "<img alt=\"Todd Haiman Landscape Design\" class=\"ResponsiveImageContainer-eybHBd fptoWY responsive-image__image\" sizes=\"100vw\" src=\"https://media.architecturaldigest.com/photos/641ca572110be4dd2e7e9a81/4:3/w_1024%2Cc_limit/3427953d-8ac1-41b9-8fa2-516e12529534.jpg\" srcset=\"https://media.architecturaldigest.com/photos/641ca572110be4dd2e7e9a81/4:3/w_120,c_limit/3427953d-8ac1-41b9-8fa2-516e12529534.jpg 120w, https://media.architecturaldigest.com/photos/641ca572110be4dd2e7e9a81/4:3/w_240,c_limit/3427953d-8ac1-41b9-8fa2-516e12529534.jpg 240w, https://media.architecturaldigest.com/photos/641ca572110be4dd2e7e9a81/4:3/w_320,c_limit/3427953d-8ac1-41b9-8fa2-516e12529534.jpg 320w, https://media.architecturaldigest.com/photos/641ca572110be4dd2e7e9a81/4:3/w_640,c_limit/3427953d-8ac1-41b9-8fa2-516e12529534.jpg 640w, https://media.architecturaldigest.com/photos/641ca572110be4dd2e7e9a81/4:3/w_960,c_limit/3427953d-8ac1-41b9-8fa2-516e12529534.jpg 960w\"/>\n",
      "<img alt=\"Plant Goddess Landscaping\" class=\"ResponsiveImageContainer-eybHBd fptoWY responsive-image__image\" sizes=\"100vw\" src=\"https://media.architecturaldigest.com/photos/65f08b913aa5c1746a295654/4:3/w_1024%2Cc_limit/4089172f-cb54-48ea-8eef-6e64c9ecb45c.jpeg\" srcset=\"https://media.architecturaldigest.com/photos/65f08b913aa5c1746a295654/4:3/w_120,c_limit/4089172f-cb54-48ea-8eef-6e64c9ecb45c.jpeg 120w, https://media.architecturaldigest.com/photos/65f08b913aa5c1746a295654/4:3/w_240,c_limit/4089172f-cb54-48ea-8eef-6e64c9ecb45c.jpeg 240w, https://media.architecturaldigest.com/photos/65f08b913aa5c1746a295654/4:3/w_320,c_limit/4089172f-cb54-48ea-8eef-6e64c9ecb45c.jpeg 320w, https://media.architecturaldigest.com/photos/65f08b913aa5c1746a295654/4:3/w_640,c_limit/4089172f-cb54-48ea-8eef-6e64c9ecb45c.jpeg 640w, https://media.architecturaldigest.com/photos/65f08b913aa5c1746a295654/4:3/w_960,c_limit/4089172f-cb54-48ea-8eef-6e64c9ecb45c.jpeg 960w\"/>\n",
      "<img alt=\"Kathryn Herman Design\" class=\"ResponsiveImageContainer-eybHBd fptoWY responsive-image__image\" sizes=\"100vw\" src=\"https://media.architecturaldigest.com/photos/66fc3adce105d513512f62ff/4:3/w_1024%2Cc_limit/956ff51f-754a-4578-89e2-0839e04f25c1.JPEG\" srcset=\"https://media.architecturaldigest.com/photos/66fc3adce105d513512f62ff/4:3/w_120,c_limit/956ff51f-754a-4578-89e2-0839e04f25c1.JPEG 120w, https://media.architecturaldigest.com/photos/66fc3adce105d513512f62ff/4:3/w_240,c_limit/956ff51f-754a-4578-89e2-0839e04f25c1.JPEG 240w, https://media.architecturaldigest.com/photos/66fc3adce105d513512f62ff/4:3/w_320,c_limit/956ff51f-754a-4578-89e2-0839e04f25c1.JPEG 320w, https://media.architecturaldigest.com/photos/66fc3adce105d513512f62ff/4:3/w_640,c_limit/956ff51f-754a-4578-89e2-0839e04f25c1.JPEG 640w, https://media.architecturaldigest.com/photos/66fc3adce105d513512f62ff/4:3/w_960,c_limit/956ff51f-754a-4578-89e2-0839e04f25c1.JPEG 960w\"/>\n",
      "<img alt=\"Janice Parker Landscape Architects\" class=\"ResponsiveImageContainer-eybHBd fptoWY responsive-image__image\" sizes=\"100vw\" src=\"https://media.architecturaldigest.com/photos/660aefcf5338cc6bc00fa12f/4:3/w_1024%2Cc_limit/a6a459f2-662a-4312-b7cf-171bef23bb51.jpg\" srcset=\"https://media.architecturaldigest.com/photos/660aefcf5338cc6bc00fa12f/4:3/w_120,c_limit/a6a459f2-662a-4312-b7cf-171bef23bb51.jpg 120w, https://media.architecturaldigest.com/photos/660aefcf5338cc6bc00fa12f/4:3/w_240,c_limit/a6a459f2-662a-4312-b7cf-171bef23bb51.jpg 240w, https://media.architecturaldigest.com/photos/660aefcf5338cc6bc00fa12f/4:3/w_320,c_limit/a6a459f2-662a-4312-b7cf-171bef23bb51.jpg 320w, https://media.architecturaldigest.com/photos/660aefcf5338cc6bc00fa12f/4:3/w_640,c_limit/a6a459f2-662a-4312-b7cf-171bef23bb51.jpg 640w, https://media.architecturaldigest.com/photos/660aefcf5338cc6bc00fa12f/4:3/w_960,c_limit/a6a459f2-662a-4312-b7cf-171bef23bb51.jpg 960w\"/>\n",
      "<img alt=\"Nievera Williams Design Inc\" class=\"ResponsiveImageContainer-eybHBd fptoWY responsive-image__image\" sizes=\"100vw\" src=\"https://media.architecturaldigest.com/photos/666355ff6e6815c4cc4feb1a/4:3/w_1024%2Cc_limit/413e01bd-e40c-488f-bcbb-86d0f7cde8bd.jpg\" srcset=\"https://media.architecturaldigest.com/photos/666355ff6e6815c4cc4feb1a/4:3/w_120,c_limit/413e01bd-e40c-488f-bcbb-86d0f7cde8bd.jpg 120w, https://media.architecturaldigest.com/photos/666355ff6e6815c4cc4feb1a/4:3/w_240,c_limit/413e01bd-e40c-488f-bcbb-86d0f7cde8bd.jpg 240w, https://media.architecturaldigest.com/photos/666355ff6e6815c4cc4feb1a/4:3/w_320,c_limit/413e01bd-e40c-488f-bcbb-86d0f7cde8bd.jpg 320w, https://media.architecturaldigest.com/photos/666355ff6e6815c4cc4feb1a/4:3/w_640,c_limit/413e01bd-e40c-488f-bcbb-86d0f7cde8bd.jpg 640w, https://media.architecturaldigest.com/photos/666355ff6e6815c4cc4feb1a/4:3/w_960,c_limit/413e01bd-e40c-488f-bcbb-86d0f7cde8bd.jpg 960w\"/>\n",
      "<img alt=\"Hoffman &amp; Ospina Landscape Architecture\" class=\"ResponsiveImageContainer-eybHBd fptoWY responsive-image__image\" sizes=\"100vw\" src=\"https://media.architecturaldigest.com/photos/6658959f29b09d42d3d58f0b/4:3/w_1024%2Cc_limit/cbe14b57-2b2e-4b42-ad6a-b18b51acee20.jpg\" srcset=\"https://media.architecturaldigest.com/photos/6658959f29b09d42d3d58f0b/4:3/w_120,c_limit/cbe14b57-2b2e-4b42-ad6a-b18b51acee20.jpg 120w, https://media.architecturaldigest.com/photos/6658959f29b09d42d3d58f0b/4:3/w_240,c_limit/cbe14b57-2b2e-4b42-ad6a-b18b51acee20.jpg 240w, https://media.architecturaldigest.com/photos/6658959f29b09d42d3d58f0b/4:3/w_320,c_limit/cbe14b57-2b2e-4b42-ad6a-b18b51acee20.jpg 320w, https://media.architecturaldigest.com/photos/6658959f29b09d42d3d58f0b/4:3/w_640,c_limit/cbe14b57-2b2e-4b42-ad6a-b18b51acee20.jpg 640w, https://media.architecturaldigest.com/photos/6658959f29b09d42d3d58f0b/4:3/w_960,c_limit/cbe14b57-2b2e-4b42-ad6a-b18b51acee20.jpg 960w\"/>\n",
      "<img alt=\"Zeterre Landscape Architecture\" class=\"ResponsiveImageContainer-eybHBd fptoWY responsive-image__image\" sizes=\"100vw\" src=\"https://media.architecturaldigest.com/photos/63eacb3e2e26122a163f143f/4:3/w_1024%2Cc_limit/6f84dae6-ac0d-4bf7-8b1c-81da8b180cc1.jpg\" srcset=\"https://media.architecturaldigest.com/photos/63eacb3e2e26122a163f143f/4:3/w_120,c_limit/6f84dae6-ac0d-4bf7-8b1c-81da8b180cc1.jpg 120w, https://media.architecturaldigest.com/photos/63eacb3e2e26122a163f143f/4:3/w_240,c_limit/6f84dae6-ac0d-4bf7-8b1c-81da8b180cc1.jpg 240w, https://media.architecturaldigest.com/photos/63eacb3e2e26122a163f143f/4:3/w_320,c_limit/6f84dae6-ac0d-4bf7-8b1c-81da8b180cc1.jpg 320w, https://media.architecturaldigest.com/photos/63eacb3e2e26122a163f143f/4:3/w_640,c_limit/6f84dae6-ac0d-4bf7-8b1c-81da8b180cc1.jpg 640w, https://media.architecturaldigest.com/photos/63eacb3e2e26122a163f143f/4:3/w_960,c_limit/6f84dae6-ac0d-4bf7-8b1c-81da8b180cc1.jpg 960w\"/>\n",
      "<img alt=\"Birch and Basil Design\" class=\"ResponsiveImageContainer-eybHBd fptoWY responsive-image__image\" sizes=\"100vw\" src=\"https://media.architecturaldigest.com/photos/63d3c61d69acb1bbf5877917/4:3/w_1024%2Cc_limit/fd41a60e-f02d-498a-88e8-5c28b912c3ea.jpg\" srcset=\"https://media.architecturaldigest.com/photos/63d3c61d69acb1bbf5877917/4:3/w_120,c_limit/fd41a60e-f02d-498a-88e8-5c28b912c3ea.jpg 120w, https://media.architecturaldigest.com/photos/63d3c61d69acb1bbf5877917/4:3/w_240,c_limit/fd41a60e-f02d-498a-88e8-5c28b912c3ea.jpg 240w, https://media.architecturaldigest.com/photos/63d3c61d69acb1bbf5877917/4:3/w_320,c_limit/fd41a60e-f02d-498a-88e8-5c28b912c3ea.jpg 320w, https://media.architecturaldigest.com/photos/63d3c61d69acb1bbf5877917/4:3/w_640,c_limit/fd41a60e-f02d-498a-88e8-5c28b912c3ea.jpg 640w, https://media.architecturaldigest.com/photos/63d3c61d69acb1bbf5877917/4:3/w_960,c_limit/fd41a60e-f02d-498a-88e8-5c28b912c3ea.jpg 960w\"/>\n",
      "<img alt=\"Evan C. Lai Landscape Design\" class=\"ResponsiveImageContainer-eybHBd fptoWY responsive-image__image\" sizes=\"100vw\" src=\"https://media.architecturaldigest.com/photos/65b3d4f3620f5eb8be8b4cb6/4:3/w_1024%2Cc_limit/4702f569-5065-4f7e-8df1-82bae7164f1a.jpg\" srcset=\"https://media.architecturaldigest.com/photos/65b3d4f3620f5eb8be8b4cb6/4:3/w_120,c_limit/4702f569-5065-4f7e-8df1-82bae7164f1a.jpg 120w, https://media.architecturaldigest.com/photos/65b3d4f3620f5eb8be8b4cb6/4:3/w_240,c_limit/4702f569-5065-4f7e-8df1-82bae7164f1a.jpg 240w, https://media.architecturaldigest.com/photos/65b3d4f3620f5eb8be8b4cb6/4:3/w_320,c_limit/4702f569-5065-4f7e-8df1-82bae7164f1a.jpg 320w, https://media.architecturaldigest.com/photos/65b3d4f3620f5eb8be8b4cb6/4:3/w_640,c_limit/4702f569-5065-4f7e-8df1-82bae7164f1a.jpg 640w, https://media.architecturaldigest.com/photos/65b3d4f3620f5eb8be8b4cb6/4:3/w_960,c_limit/4702f569-5065-4f7e-8df1-82bae7164f1a.jpg 960w\"/>\n",
      "<img alt=\"Dune Hai\" class=\"ResponsiveImageContainer-eybHBd fptoWY responsive-image__image\" sizes=\"100vw\" src=\"https://media.architecturaldigest.com/photos/67a1237843b545d271624db0/4:3/w_1024%2Cc_limit/a7f92576-fe10-4258-a07a-6e4006849beb.jpg\" srcset=\"https://media.architecturaldigest.com/photos/67a1237843b545d271624db0/4:3/w_120,c_limit/a7f92576-fe10-4258-a07a-6e4006849beb.jpg 120w, https://media.architecturaldigest.com/photos/67a1237843b545d271624db0/4:3/w_240,c_limit/a7f92576-fe10-4258-a07a-6e4006849beb.jpg 240w, https://media.architecturaldigest.com/photos/67a1237843b545d271624db0/4:3/w_320,c_limit/a7f92576-fe10-4258-a07a-6e4006849beb.jpg 320w, https://media.architecturaldigest.com/photos/67a1237843b545d271624db0/4:3/w_640,c_limit/a7f92576-fe10-4258-a07a-6e4006849beb.jpg 640w, https://media.architecturaldigest.com/photos/67a1237843b545d271624db0/4:3/w_960,c_limit/a7f92576-fe10-4258-a07a-6e4006849beb.jpg 960w\"/>\n",
      "<img alt=\"James Doyle Design Associates\" class=\"ResponsiveImageContainer-eybHBd fptoWY responsive-image__image\" sizes=\"100vw\" src=\"https://media.architecturaldigest.com/photos/66b63f8bc2b8c28fd8383407/4:3/w_1024%2Cc_limit/c8ea6395-afe7-4801-91c2-421b00ccd2b8.jpg\" srcset=\"https://media.architecturaldigest.com/photos/66b63f8bc2b8c28fd8383407/4:3/w_120,c_limit/c8ea6395-afe7-4801-91c2-421b00ccd2b8.jpg 120w, https://media.architecturaldigest.com/photos/66b63f8bc2b8c28fd8383407/4:3/w_240,c_limit/c8ea6395-afe7-4801-91c2-421b00ccd2b8.jpg 240w, https://media.architecturaldigest.com/photos/66b63f8bc2b8c28fd8383407/4:3/w_320,c_limit/c8ea6395-afe7-4801-91c2-421b00ccd2b8.jpg 320w, https://media.architecturaldigest.com/photos/66b63f8bc2b8c28fd8383407/4:3/w_640,c_limit/c8ea6395-afe7-4801-91c2-421b00ccd2b8.jpg 640w, https://media.architecturaldigest.com/photos/66b63f8bc2b8c28fd8383407/4:3/w_960,c_limit/c8ea6395-afe7-4801-91c2-421b00ccd2b8.jpg 960w\"/>\n",
      "<img alt=\"Marshall Paetzel Landscape Architecture\" class=\"ResponsiveImageContainer-eybHBd fptoWY responsive-image__image\" sizes=\"100vw\" src=\"https://media.architecturaldigest.com/photos/6619a43cd17c98263ed7c1cd/4:3/w_1024%2Cc_limit/41b40188-e268-407f-b981-ac0a3c37e3e7.jpg\" srcset=\"https://media.architecturaldigest.com/photos/6619a43cd17c98263ed7c1cd/4:3/w_120,c_limit/41b40188-e268-407f-b981-ac0a3c37e3e7.jpg 120w, https://media.architecturaldigest.com/photos/6619a43cd17c98263ed7c1cd/4:3/w_240,c_limit/41b40188-e268-407f-b981-ac0a3c37e3e7.jpg 240w, https://media.architecturaldigest.com/photos/6619a43cd17c98263ed7c1cd/4:3/w_320,c_limit/41b40188-e268-407f-b981-ac0a3c37e3e7.jpg 320w, https://media.architecturaldigest.com/photos/6619a43cd17c98263ed7c1cd/4:3/w_640,c_limit/41b40188-e268-407f-b981-ac0a3c37e3e7.jpg 640w, https://media.architecturaldigest.com/photos/6619a43cd17c98263ed7c1cd/4:3/w_960,c_limit/41b40188-e268-407f-b981-ac0a3c37e3e7.jpg 960w\"/>\n",
      "<img alt=\"Benner Landscape Design\" class=\"ResponsiveImageContainer-eybHBd fptoWY responsive-image__image\" sizes=\"100vw\" src=\"https://media.architecturaldigest.com/photos/63d9b364684cbf76878a28c1/4:3/w_1024%2Cc_limit/c61de9a5-454a-48fd-9e74-c1f2242a9f0d.jpg\" srcset=\"https://media.architecturaldigest.com/photos/63d9b364684cbf76878a28c1/4:3/w_120,c_limit/c61de9a5-454a-48fd-9e74-c1f2242a9f0d.jpg 120w, https://media.architecturaldigest.com/photos/63d9b364684cbf76878a28c1/4:3/w_240,c_limit/c61de9a5-454a-48fd-9e74-c1f2242a9f0d.jpg 240w, https://media.architecturaldigest.com/photos/63d9b364684cbf76878a28c1/4:3/w_320,c_limit/c61de9a5-454a-48fd-9e74-c1f2242a9f0d.jpg 320w, https://media.architecturaldigest.com/photos/63d9b364684cbf76878a28c1/4:3/w_640,c_limit/c61de9a5-454a-48fd-9e74-c1f2242a9f0d.jpg 640w, https://media.architecturaldigest.com/photos/63d9b364684cbf76878a28c1/4:3/w_960,c_limit/c61de9a5-454a-48fd-9e74-c1f2242a9f0d.jpg 960w\"/>\n",
      "https://media.architecturaldigest.com/photos/66a13a91b5f10927b8503463/4:3/w_1024%2Cc_limit/c361d170-400b-4e4b-a0b7-fe69271422a9.jpg\n",
      "https://media.architecturaldigest.com/photos/6690195ad0279b984ddf8b77/4:3/w_1024%2Cc_limit/968c40fb-d0c0-4821-bd11-918bf137ffc8.jpg\n",
      "https://media.architecturaldigest.com/photos/63ebfff2504ae3c856e97306/4:3/w_1024%2Cc_limit/0b293efa-5f17-439b-ac54-8af55fd7e350.jpg\n",
      "https://media.architecturaldigest.com/photos/6737f60686d3810c1cc070d2/4:3/w_1024%2Cc_limit/a5e147ab-4ea4-4a4c-a5cf-7f93c65e26ad.jpg\n",
      "https://media.architecturaldigest.com/photos/6751f728cc04214657f3bda8/4:3/w_1024%2Cc_limit/d6cd174f-d0fd-48f0-bfb4-b5d9974d563c.jpg\n",
      "https://media.architecturaldigest.com/photos/63e65e1b470f9b6a7d32b915/4:3/w_1024%2Cc_limit/98c16e3d-7df9-4237-848f-93959ad66d52.jpg\n",
      "https://media.architecturaldigest.com/photos/6634102e779f04471c05cffa/4:3/w_1024%2Cc_limit/b10bc855-4671-47dd-a5e0-ffcb164c43fb.jpg\n",
      "https://media.architecturaldigest.com/photos/673cc1f2d6c04c272c7db943/4:3/w_1024%2Cc_limit/ad24bdab-e782-42f9-9967-c757288dcf0c.jpg\n",
      "https://media.architecturaldigest.com/photos/64b9dc0ef60a037c689ebea9/4:3/w_1024%2Cc_limit/9f0d70a8-9b70-4b49-a958-ce467f94c235.jpg\n",
      "https://media.architecturaldigest.com/photos/66aa69d17f9de17878421953/4:3/w_1024%2Cc_limit/WK%2520IMAGE%25201.jpg\n",
      "https://media.architecturaldigest.com/photos/675328229a1b1c200da72afe/4:3/w_1024%2Cc_limit/1a25ee2d-e410-4de1-9ab3-8c3d09cd4274.png\n",
      "https://media.architecturaldigest.com/photos/67571bad65dc4630299d4c83/4:3/w_1024%2Cc_limit/47313e00-8802-4c71-b8ce-8f0409a9def7.jpg\n",
      "https://media.architecturaldigest.com/photos/64774bcc992adbc26396661e/4:3/w_1024%2Cc_limit/b9bef66b-ca3c-43d9-a1fd-96063a793c6d.jpg\n",
      "https://media.architecturaldigest.com/photos/6509b5dfde76efb441a16f95/4:3/w_1024%2Cc_limit/85edeb99-d72b-4864-8966-520ba703ed23.jpg\n",
      "https://media.architecturaldigest.com/photos/640a40e12f3833e759ce4b6a/4:3/w_1024%2Cc_limit/c9a5b413-e2c1-4ec7-ac13-98850827c58a.jpg\n",
      "https://media.architecturaldigest.com/photos/63d3e757ab0dfee1a58558d5/4:3/w_1024%2Cc_limit/6962f78d-c925-4b3e-9a2a-ab6758b72559.jpg\n",
      "https://media.architecturaldigest.com/photos/66f316120edf3e2b459c9dc1/4:3/w_1024%2Cc_limit/d92476e5-3fa4-4aaa-8a27-20c87c40ba9e.png\n",
      "https://media.architecturaldigest.com/photos/66b13b91509db02e60e87c50/4:3/w_1024%2Cc_limit/371f6171-d28b-4065-92a2-a3456d967e4a.jpg\n",
      "https://media.architecturaldigest.com/photos/6679ca85a2a7f23bc886df5d/4:3/w_1024%2Cc_limit/175b3efe-e9a4-44e5-838d-7ad8bdfcf6a3.jpg\n",
      "https://media.architecturaldigest.com/photos/641ca572110be4dd2e7e9a81/4:3/w_1024%2Cc_limit/3427953d-8ac1-41b9-8fa2-516e12529534.jpg\n",
      "https://media.architecturaldigest.com/photos/65f08b913aa5c1746a295654/4:3/w_1024%2Cc_limit/4089172f-cb54-48ea-8eef-6e64c9ecb45c.jpeg\n",
      "https://media.architecturaldigest.com/photos/66fc3adce105d513512f62ff/4:3/w_1024%2Cc_limit/956ff51f-754a-4578-89e2-0839e04f25c1.JPEG\n",
      "https://media.architecturaldigest.com/photos/660aefcf5338cc6bc00fa12f/4:3/w_1024%2Cc_limit/a6a459f2-662a-4312-b7cf-171bef23bb51.jpg\n",
      "https://media.architecturaldigest.com/photos/666355ff6e6815c4cc4feb1a/4:3/w_1024%2Cc_limit/413e01bd-e40c-488f-bcbb-86d0f7cde8bd.jpg\n",
      "https://media.architecturaldigest.com/photos/6658959f29b09d42d3d58f0b/4:3/w_1024%2Cc_limit/cbe14b57-2b2e-4b42-ad6a-b18b51acee20.jpg\n",
      "https://media.architecturaldigest.com/photos/63eacb3e2e26122a163f143f/4:3/w_1024%2Cc_limit/6f84dae6-ac0d-4bf7-8b1c-81da8b180cc1.jpg\n",
      "https://media.architecturaldigest.com/photos/63d3c61d69acb1bbf5877917/4:3/w_1024%2Cc_limit/fd41a60e-f02d-498a-88e8-5c28b912c3ea.jpg\n",
      "https://media.architecturaldigest.com/photos/65b3d4f3620f5eb8be8b4cb6/4:3/w_1024%2Cc_limit/4702f569-5065-4f7e-8df1-82bae7164f1a.jpg\n",
      "https://media.architecturaldigest.com/photos/67a1237843b545d271624db0/4:3/w_1024%2Cc_limit/a7f92576-fe10-4258-a07a-6e4006849beb.jpg\n",
      "https://media.architecturaldigest.com/photos/66b63f8bc2b8c28fd8383407/4:3/w_1024%2Cc_limit/c8ea6395-afe7-4801-91c2-421b00ccd2b8.jpg\n",
      "https://media.architecturaldigest.com/photos/6619a43cd17c98263ed7c1cd/4:3/w_1024%2Cc_limit/41b40188-e268-407f-b981-ac0a3c37e3e7.jpg\n",
      "https://media.architecturaldigest.com/photos/63d9b364684cbf76878a28c1/4:3/w_1024%2Cc_limit/c61de9a5-454a-48fd-9e74-c1f2242a9f0d.jpg\n",
      "Image links saved to txtfiles/ImgsLinks.txt\n"
     ]
    }
   ],
   "source": [
    "images = soup.select(\"div.summary-item div.summary-item__asset-container picture img\")\n",
    "\n",
    "for img in images:\n",
    "    print(img)\n",
    "\n",
    "file_name = 'txtfiles/ImgsLinks.txt'  # Specify your file name here, change the name if you don't want to overwrite the file!\n",
    "os.makedirs(os.path.dirname(file_name), exist_ok=True)\n",
    "with open(file_name, 'w') as file:\n",
    "    for img in images:\n",
    "        # Get the src attribute\n",
    "        src = img.get('src')\n",
    "        if src.startswith(\"//\"):\n",
    "            src = \"https:\" + src\n",
    "        # Write to file without line numbers\n",
    "        file.write(f\"{src}\\n\")\n",
    "        print(src)\n",
    "\n",
    "print(f\"Image links saved to {file_name}\")"
   ]
  },
  {
   "cell_type": "code",
   "execution_count": 12,
   "metadata": {},
   "outputs": [
    {
     "name": "stdout",
     "output_type": "stream",
     "text": [
      "Image saved: images\\image_1.jpg\n",
      "Image saved: images\\image_2.jpg\n",
      "Image saved: images\\image_3.jpg\n",
      "Image saved: images\\image_4.jpg\n",
      "Image saved: images\\image_5.jpg\n",
      "Image saved: images\\image_6.jpg\n",
      "Image saved: images\\image_7.jpg\n",
      "Image saved: images\\image_8.jpg\n",
      "Image saved: images\\image_9.jpg\n",
      "Image saved: images\\image_10.jpg\n",
      "Image saved: images\\image_11.jpg\n",
      "Image saved: images\\image_12.jpg\n",
      "Image saved: images\\image_13.jpg\n",
      "Image saved: images\\image_14.jpg\n",
      "Image saved: images\\image_15.jpg\n",
      "Image saved: images\\image_16.jpg\n",
      "Image saved: images\\image_17.jpg\n",
      "Image saved: images\\image_18.jpg\n",
      "Image saved: images\\image_19.jpg\n",
      "Image saved: images\\image_20.jpg\n",
      "Image saved: images\\image_21.jpg\n",
      "Image saved: images\\image_22.jpg\n",
      "Image saved: images\\image_23.jpg\n",
      "Image saved: images\\image_24.jpg\n",
      "Image saved: images\\image_25.jpg\n",
      "Image saved: images\\image_26.jpg\n",
      "Image saved: images\\image_27.jpg\n",
      "Image saved: images\\image_28.jpg\n",
      "Image saved: images\\image_29.jpg\n",
      "Image saved: images\\image_30.jpg\n",
      "Image saved: images\\image_31.jpg\n",
      "Image saved: images\\image_32.jpg\n",
      "got all imgs and saved them in 'images' folder.\n"
     ]
    }
   ],
   "source": [
    "folder_name = 'images'\n",
    "if not os.path.exists(folder_name):\n",
    "    os.makedirs(folder_name)\n",
    "\n",
    "file_name = 'txtfiles/ImgsLinks.txt'\n",
    "with open(file_name, 'r') as file:\n",
    "    img_links = file.readlines()\n",
    "\n",
    "for i, link in enumerate(img_links):\n",
    "    # Strip whitespace and get the link\n",
    "    link = link.strip()\n",
    "    # Get or request the image from the website (we are entering bot territory and websites dont like so many requests!)\n",
    "    img_data = requests.get(link).content\n",
    "    # Create a file name for each image\n",
    "    img_name = os.path.join(folder_name, f'image_{i+1}.jpg')\n",
    "    # Save the image\n",
    "    with open(img_name, 'wb') as img_file:\n",
    "        img_file.write(img_data)\n",
    "        print(f\"Image saved: {img_name}\")\n",
    "\n",
    "print(f\"got all imgs and saved them in '{folder_name}' folder.\")"
   ]
  },
  {
   "cell_type": "markdown",
   "metadata": {},
   "source": [
    "### profiles"
   ]
  },
  {
   "cell_type": "code",
   "execution_count": 33,
   "metadata": {},
   "outputs": [
    {
     "name": "stdout",
     "output_type": "stream",
     "text": [
      "https://www.architecturaldigest.com/adpro/directory/profile/folia-gardens\n",
      "https://www.architecturaldigest.com/adpro/directory/profile/laguardia-design-group\n",
      "https://www.architecturaldigest.com/adpro/directory/profile/hollander-design-landscape-architects\n",
      "https://www.architecturaldigest.com/adpro/directory/profile/skornicka-designs-and-construction-1\n",
      "https://www.architecturaldigest.com/adpro/directory/profile/oehme-van-sweden-landscape-architecture\n",
      "https://www.architecturaldigest.com/adpro/directory/profile/melissa-gerstle-design\n",
      "https://www.architecturaldigest.com/adpro/directory/profile/studio-arth\n",
      "https://www.architecturaldigest.com/adpro/directory/profile/garden-26\n",
      "https://www.architecturaldigest.com/adpro/directory/profile/terren-landscapes\n",
      "https://www.architecturaldigest.com/adpro/directory/profile/grace-fuller-design\n",
      "https://www.architecturaldigest.com/adpro/directory/profile/gavin-boyceratliff-landscape-design\n",
      "https://www.architecturaldigest.com/adpro/directory/profile/land-morphology\n",
      "https://www.architecturaldigest.com/adpro/directory/profile/tropic-of-capricorn\n",
      "https://www.architecturaldigest.com/adpro/directory/profile/premier-outdoor-living\n",
      "https://www.architecturaldigest.com/adpro/directory/profile/from-the-ground-up-landscape\n",
      "https://www.architecturaldigest.com/adpro/directory/profile/quincy-hammond-landscape-architect\n",
      "https://www.architecturaldigest.com/adpro/directory/profile/orca\n",
      "https://www.architecturaldigest.com/adpro/directory/profile/landscape-details\n",
      "https://www.architecturaldigest.com/adpro/directory/profile/jonathan-fargion-design\n",
      "https://www.architecturaldigest.com/adpro/directory/profile/todd-haiman-landscape-design\n",
      "https://www.architecturaldigest.com/adpro/directory/profile/plant-goddess-landscaping\n",
      "https://www.architecturaldigest.com/adpro/directory/profile/kathryn-herman-design\n",
      "https://www.architecturaldigest.com/adpro/directory/profile/janice-parker-landscape-architects\n",
      "https://www.architecturaldigest.com/adpro/directory/profile/nievera-williams-design-inc\n",
      "https://www.architecturaldigest.com/adpro/directory/profile/hoffman-ospina-landscape-architecture\n",
      "https://www.architecturaldigest.com/adpro/directory/profile/zeterre-landscape-architecture\n",
      "https://www.architecturaldigest.com/adpro/directory/profile/birch-and-basil-design\n",
      "https://www.architecturaldigest.com/adpro/directory/profile/evan-c-lai-landscape-design\n",
      "https://www.architecturaldigest.com/adpro/directory/profile/dune-hai-91\n",
      "https://www.architecturaldigest.com/adpro/directory/profile/james-doyle-design-associates\n",
      "https://www.architecturaldigest.com/adpro/directory/profile/marshall-paetzel-landscape-architecture\n",
      "https://www.architecturaldigest.com/adpro/directory/profile/benner-landscape-design\n",
      "posting links saved to txtfiles/expertprofilesLinks.txt\n"
     ]
    }
   ],
   "source": [
    "expert_profiles = soup.select('a.summary-item__hed-link')\n",
    "\n",
    "file_name = 'txtfiles/expertprofilesLinks.txt'  # Specify your file name here, change the name if you don't want to overwrite the file!\n",
    "os.makedirs(os.path.dirname(file_name), exist_ok=True)\n",
    "with open(file_name, 'w') as file:\n",
    "    for result in expert_profiles:\n",
    "        href = result.get('href')\n",
    "        link = f'https://www.architecturaldigest.com/adpro/directory/{href}'\n",
    "        file.write(link)\n",
    "        print(link)\n",
    "\n",
    "print(f\"posting links saved to {file_name}\")"
   ]
  },
  {
   "cell_type": "markdown",
   "metadata": {},
   "source": [
    "### descriptions"
   ]
  },
  {
   "cell_type": "code",
   "execution_count": 27,
   "metadata": {},
   "outputs": [
    {
     "name": "stdout",
     "output_type": "stream",
     "text": [
      "Folia specializes in reclaiming urban outdoor spaces and reimagining them into restorative natural escapes.\n",
      "LDG’s mission is to merge architecture and landscape through the lens of artful design and environmental science.\n",
      "An AD100 firm creating unique experiences of home through exceptional landscape design.\n",
      "Creating sacred and sustainable spaces inspired by nature and guided by the spirit of the surroundings.\n",
      "A collaborative of landscape architects, horticulturists, and creative thinkers who create extraordinary outdoor spaces.\n",
      "A landscape design studio creating extraordinary outdoor spaces that are rooted in beauty.\n",
      "At Arth, we recreate the serenity of the natural environment and bring nature into your life through medium of design.\n",
      "Crafting timeless elegance and tranquility in luxury landscapes with expertise, innovation, and global perspective.\n",
      "Creating enduring, eco-conscious landscapes for luxury living, mirrored in our exceptional installation process.\n",
      "Grace Fuller Design is a New York–based landscape design firm rooted in the belief that nature is the greatest teacher.\n",
      "Gavin Boyce-Ratliff designs immersive climate forward gardens that fit effortlessly into the rugged New England vernacular.\n",
      "Our designs harmonize beauty with resiliency, resulting in spaces that connect people to nature and place.\n",
      "Tropic of Capricorn is a design studio based in Austin, Texas, specializing in interior and exterior plantscaping.\n",
      "Premier Outdoor Living is a design-build firm that specializes in creating unique indoor-outdoor living spaces.\n",
      "From the Ground Up is a full-service landscape design firm offering design, installation, and garden maintenance.\n",
      "Quincy Hammond Landscape Architect creates gardens that reflect her clients' unique characters and desires.\n",
      "Outdoor design and product studio that uses natural materials in their rawest forms to re/connect humans with earth.\n",
      "We are the Hamptons’ premier landscaping company—providing the highest caliber of attention to care for your property.\n",
      "Milanese designer based in New York, creating landscapes that complement architecture & elevate the outdoor experience.\n",
      "THLD designs and builds residential gardens, roof and terrace gardens, large landscapes, and vacation properties.\n",
      "Plant Goddess Landscaping offers landscape design and installation services in the San Gabriel Valley.\n",
      "Kathryn Herman Design is an award-winning landscape design studio that is focused on creating landscapes as sanctuary.\n",
      "JPLA creates innovative landscapes dedicated to the natural environment and rooted in classical design.\n",
      "Nievera Williams is a leading landscape architectural firm with work in Palm Beach, the Bahamas, Dubai, and beyond.\n",
      "Hoffman & Ospina is a Landscape Architecture firm creating memorable homes, estates, and hotels of distinction.\n",
      "SF and Boston-based firm creating site-specific, architecturally appropriate gardens that earn international praise.\n",
      "Birch and Basil brings a California sensibility to East Coast and NYC gardens with a focus on nature-inspired design.\n",
      "A full-service landscape design, build, and maintenance firm creating elegant custom gardens throughout New York City.\n",
      "At Dune Hai, we are translators. We translate our client’s aesthetics, memories and lifestyles into meaningful spaces.\n",
      "James Doyle Design Associates is a landscape design studio creating unique landscapes for residential clients.\n",
      "Marshall Paetzel Landscape Architecture specializes in sustainable design using innovative materials and details.\n",
      "Exterior designers with offices in Los Angeles and San Francisco, covering landscape design and construction.\n"
     ]
    }
   ],
   "source": [
    "descriptions = soup.select('div.summary-item__dek')\n",
    "\n",
    "desc_file = 'txtfiles/descriptions.txt'\n",
    "os.makedirs(os.path.dirname(desc_file), exist_ok=True)\n",
    "\n",
    "with open(desc_file, 'w') as file:\n",
    "    for d in descriptions:\n",
    "        desc_text = d.text.strip()\n",
    "        file.write(f\"{desc_text}\\n\")\n",
    "        print(desc_text)"
   ]
  },
  {
   "cell_type": "code",
   "execution_count": 28,
   "metadata": {},
   "outputs": [
    {
     "name": "stdout",
     "output_type": "stream",
     "text": [
      "New YorkNew York\n",
      "Water MillNew York\n",
      "New YorkNew York\n",
      "RossCalifornia\n",
      "WashingtonDistrict of Columbia\n",
      "DallasTexas\n",
      "Coral GablesFlorida\n",
      "New YorkNew York\n",
      "ConshohockenPennsylvania\n",
      "New YorkNew York\n",
      "BrunswickMaine\n",
      "SeattleWashington\n",
      "AustinTexas\n",
      "PalmyraNew Jersey\n",
      "DallasTexas\n",
      "Sound BeachNew York\n",
      "Los AngelesCalifornia\n",
      "East HamptonNew York\n",
      "New YorkNew York\n",
      "New YorkNew York\n",
      "Sierra MadreCalifornia\n",
      "New CanaanConnecticut\n",
      "GreenwichConnecticut\n",
      "West Palm BeachFlorida\n",
      "West HollywoodCalifornia\n",
      "San FranciscoCalifornia\n",
      "New YorkNew York\n",
      "New YorkNew York\n",
      "El CerritoCalifornia\n",
      "GreenwichConnecticut\n",
      "MattituckNew York\n",
      "Los AngelesCalifornia\n"
     ]
    }
   ],
   "source": [
    "locations = soup.select('div.summary-list__items div.SummaryItemBusinessLocationWrapper-gXIoTE')\n",
    "\n",
    "loc_file = 'txtfiles/locations.txt'\n",
    "os.makedirs(os.path.dirname(loc_file), exist_ok=True)\n",
    "\n",
    "with open(loc_file, 'w') as file:\n",
    "    for l in locations:\n",
    "        loc_text = l.text.strip()\n",
    "        file.write(f\"{loc_text}\\n\")\n",
    "        print(loc_text)"
   ]
  }
 ],
 "metadata": {
  "kernelspec": {
   "display_name": "dxarts",
   "language": "python",
   "name": "python3"
  },
  "language_info": {
   "codemirror_mode": {
    "name": "ipython",
    "version": 3
   },
   "file_extension": ".py",
   "mimetype": "text/x-python",
   "name": "python",
   "nbconvert_exporter": "python",
   "pygments_lexer": "ipython3",
   "version": "3.11.11"
  }
 },
 "nbformat": 4,
 "nbformat_minor": 2
}
