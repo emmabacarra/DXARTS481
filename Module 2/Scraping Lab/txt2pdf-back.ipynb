{
 "cells": [
  {
   "cell_type": "markdown",
   "id": "c5c6b5f2-a81a-43e9-8bb5-dd0323840e69",
   "metadata": {},
   "source": [
    "# Convert your .txts to pdfs and vice-versa"
   ]
  },
  {
   "cell_type": "code",
   "execution_count": 1,
   "id": "921c3f40-1f52-4627-b1d1-634d7f46749c",
   "metadata": {},
   "outputs": [],
   "source": [
    "from reportlab.lib.pagesizes import letter\n",
    "from reportlab.pdfgen import canvas\n",
    "import os"
   ]
  },
  {
   "cell_type": "code",
   "execution_count": 16,
   "id": "d77b59af-61ca-49cc-a14d-8f64a025549c",
   "metadata": {},
   "outputs": [],
   "source": [
    "input_txt_file = 'txtfiles/aRoom.txt'  # Replace with your input text file path\n",
    "output_pdf_file = 'PDFs/aRoom.pdf'  # Replace with your output PDF file path\n",
    "\n",
    "# Create the output folder if it doesn't exist\n",
    "if not os.path.exists(os.path.dirname(output_pdf_file)):\n",
    "    os.makedirs(os.path.dirname(output_pdf_file))\n",
    "\n",
    "# Create a canvas object for the PDF\n",
    "c = canvas.Canvas(output_pdf_file, pagesize=letter)\n",
    "width, height = letter"
   ]
  },
  {
   "cell_type": "code",
   "execution_count": 17,
   "id": "7ec61036-e03e-4bbd-a6de-ecae9a924d1e",
   "metadata": {},
   "outputs": [],
   "source": [
    "# Set the starting position for the text\n",
    "y_position = height - 50"
   ]
  },
  {
   "cell_type": "code",
   "execution_count": 18,
   "id": "6fd3c2b7-406e-4fff-aec5-4d42ee9a3145",
   "metadata": {},
   "outputs": [
    {
     "name": "stdout",
     "output_type": "stream",
     "text": [
      "PDF saved at PDFs/aRoom.pdf\n"
     ]
    }
   ],
   "source": [
    "# Read the text file and add its content to the PDF\n",
    "with open(input_txt_file, 'r') as file:\n",
    "    for line in file:\n",
    "        c.drawString(80, y_position, line.strip())\n",
    "        y_position -= 15\n",
    "        # Add a new page if the y_position goes beyond the bottom margin\n",
    "        if y_position < 40:\n",
    "            c.showPage()\n",
    "            y_position = height - 40\n",
    "\n",
    "# Save the PDF\n",
    "c.save()\n",
    "\n",
    "print(f'PDF saved at {output_pdf_file}')"
   ]
  },
  {
   "cell_type": "markdown",
   "id": "a05f9f01-a872-4ed2-9c27-c54158b62e4e",
   "metadata": {},
   "source": [
    "# PDF to txt"
   ]
  },
  {
   "cell_type": "code",
   "execution_count": 23,
   "id": "321f360b-3c3d-4733-b7cc-5761b9cf8ef3",
   "metadata": {},
   "outputs": [
    {
     "name": "stdout",
     "output_type": "stream",
     "text": [
      "TXT file saved at results/laMampara.txt\n"
     ]
    }
   ],
   "source": [
    "from pypdf import PdfReader\n",
    "# Define the input PDF file and output TXT file paths\n",
    "input_pdf_file = 'PDFs/LaMampara.pdf'  # Replace with your input PDF file path\n",
    "output_txt_file = 'results/laMampara.txt'  # Replace with your output TXT file path\n",
    "\n",
    "# Open the PDF file\n",
    "with open(input_pdf_file, 'rb') as pdf_file:\n",
    "    # Create a PDF reader object\n",
    "    pdf_reader = PdfReader(pdf_file)\n",
    "\n",
    "    # Open the TXT file for writing\n",
    "    with open(output_txt_file, 'w') as txt_file:\n",
    "        # Iterate through all the pages and extract text\n",
    "        for page in pdf_reader.pages:\n",
    "            text = page.extract_text()\n",
    "            txt_file.write(text)\n",
    "            txt_file.write('\\n')\n",
    "\n",
    "print(f'TXT file saved at {output_txt_file}')\n"
   ]
  }
 ],
 "metadata": {
  "kernelspec": {
   "display_name": "dxarts",
   "language": "python",
   "name": "python3"
  },
  "language_info": {
   "codemirror_mode": {
    "name": "ipython",
    "version": 3
   },
   "file_extension": ".py",
   "mimetype": "text/x-python",
   "name": "python",
   "nbconvert_exporter": "python",
   "pygments_lexer": "ipython3",
   "version": "3.11.11"
  }
 },
 "nbformat": 4,
 "nbformat_minor": 5
}
